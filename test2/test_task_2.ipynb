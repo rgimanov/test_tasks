{
  "nbformat": 4,
  "nbformat_minor": 0,
  "metadata": {
    "colab": {
      "name": "test_task_2.ipynb",
      "provenance": []
    },
    "kernelspec": {
      "name": "python3",
      "display_name": "Python 3"
    },
    "language_info": {
      "name": "python"
    }
  },
  "cells": [
    {
      "cell_type": "code",
      "metadata": {
        "colab": {
          "base_uri": "https://localhost:8080/"
        },
        "id": "uk6kQ1SeDTkp",
        "outputId": "cd75b958-2546-4f04-8124-8e52d751c87f"
      },
      "source": [
        "!mkdir dd"
      ],
      "execution_count": 18,
      "outputs": [
        {
          "output_type": "stream",
          "text": [
            "mkdir: cannot create directory ‘dd’: File exists\n"
          ],
          "name": "stdout"
        }
      ]
    },
    {
      "cell_type": "code",
      "metadata": {
        "id": "DTOvphQw6thh"
      },
      "source": [
        "from google_drive_downloader import GoogleDriveDownloader as gdd\n",
        "\n",
        "gdd.download_file_from_google_drive(file_id='11C5xkdnvlgwSTvbZBfymPum_SZlh8V1E',\n",
        "                                    dest_path='dd/uid_to_user_id.csv',\n",
        "                                    unzip=True)\n",
        "gdd.download_file_from_google_drive(file_id='1NvnFhXgJbL_jYIyqcdmVfNY5YKSSOrkl',\n",
        "                                    dest_path='dd/internal_events.csv',\n",
        "                                    unzip=True)\n",
        "gdd.download_file_from_google_drive(file_id='11tLPWrKUXS2qFZWU94HzxDljS3vTDeQV',\n",
        "                                    dest_path='dd/billing_sys.csv',\n",
        "                                    unzip=True)\n",
        "gdd.download_file_from_google_drive(file_id='1StGze-935haC3uOKBn7WcHy5z_2pn1iu',\n",
        "                                    dest_path='dd/ad_sys.csv',\n",
        "                                    unzip=True)"
      ],
      "execution_count": 19,
      "outputs": []
    },
    {
      "cell_type": "code",
      "metadata": {
        "id": "skzuA9SWDNvw"
      },
      "source": [
        "import pandas as pd\n",
        "import numpy as np"
      ],
      "execution_count": 20,
      "outputs": []
    },
    {
      "cell_type": "code",
      "metadata": {
        "id": "N_Wu_m2XE2Fk"
      },
      "source": [
        "ad_sys = pd.read_csv('dd/ad_sys.csv')\n",
        "billing_sys = pd.read_csv('dd/billing_sys.csv')\n",
        "internal_events = pd.read_csv('dd/internal_events.csv')\n",
        "uid_to_user_id = pd.read_csv('dd/uid_to_user_id.csv')"
      ],
      "execution_count": 21,
      "outputs": []
    },
    {
      "cell_type": "code",
      "metadata": {
        "id": "jwdwU4cXzh5c"
      },
      "source": [
        "traffic_id = []"
      ],
      "execution_count": 103,
      "outputs": []
    },
    {
      "cell_type": "code",
      "metadata": {
        "colab": {
          "base_uri": "https://localhost:8080/",
          "height": 204
        },
        "id": "U2ZMttObFAlz",
        "outputId": "a52ac556-6e6b-4b24-cea8-f9027e10c107"
      },
      "source": [
        "ad_sys_sorted = ad_sys.sort_values('date')\n",
        "ad_sys_sorted.head()"
      ],
      "execution_count": 43,
      "outputs": [
        {
          "output_type": "execute_result",
          "data": {
            "text/html": [
              "<div>\n",
              "<style scoped>\n",
              "    .dataframe tbody tr th:only-of-type {\n",
              "        vertical-align: middle;\n",
              "    }\n",
              "\n",
              "    .dataframe tbody tr th {\n",
              "        vertical-align: top;\n",
              "    }\n",
              "\n",
              "    .dataframe thead th {\n",
              "        text-align: right;\n",
              "    }\n",
              "</style>\n",
              "<table border=\"1\" class=\"dataframe\">\n",
              "  <thead>\n",
              "    <tr style=\"text-align: right;\">\n",
              "      <th></th>\n",
              "      <th>date</th>\n",
              "      <th>revenue</th>\n",
              "      <th>spent</th>\n",
              "      <th>_collected_at</th>\n",
              "      <th>affid</th>\n",
              "    </tr>\n",
              "  </thead>\n",
              "  <tbody>\n",
              "    <tr>\n",
              "      <th>0</th>\n",
              "      <td>2021-04-08</td>\n",
              "      <td>0.00</td>\n",
              "      <td>10.99</td>\n",
              "      <td>2021-04-08 07:17:50.998301 UTC</td>\n",
              "      <td>1008</td>\n",
              "    </tr>\n",
              "    <tr>\n",
              "      <th>102</th>\n",
              "      <td>2021-04-08</td>\n",
              "      <td>3766.57</td>\n",
              "      <td>5577.90</td>\n",
              "      <td>2021-04-09 22:46:57.231283 UTC</td>\n",
              "      <td>1008</td>\n",
              "    </tr>\n",
              "    <tr>\n",
              "      <th>101</th>\n",
              "      <td>2021-04-08</td>\n",
              "      <td>3766.57</td>\n",
              "      <td>5577.30</td>\n",
              "      <td>2021-04-09 22:23:49.591437 UTC</td>\n",
              "      <td>1008</td>\n",
              "    </tr>\n",
              "    <tr>\n",
              "      <th>100</th>\n",
              "      <td>2021-04-08</td>\n",
              "      <td>3766.57</td>\n",
              "      <td>5577.28</td>\n",
              "      <td>2021-04-09 22:01:16.899356 UTC</td>\n",
              "      <td>1008</td>\n",
              "    </tr>\n",
              "    <tr>\n",
              "      <th>99</th>\n",
              "      <td>2021-04-08</td>\n",
              "      <td>3766.57</td>\n",
              "      <td>5577.24</td>\n",
              "      <td>2021-04-09 21:38:10.424114 UTC</td>\n",
              "      <td>1008</td>\n",
              "    </tr>\n",
              "  </tbody>\n",
              "</table>\n",
              "</div>"
            ],
            "text/plain": [
              "           date  revenue    spent                   _collected_at  affid\n",
              "0    2021-04-08     0.00    10.99  2021-04-08 07:17:50.998301 UTC   1008\n",
              "102  2021-04-08  3766.57  5577.90  2021-04-09 22:46:57.231283 UTC   1008\n",
              "101  2021-04-08  3766.57  5577.30  2021-04-09 22:23:49.591437 UTC   1008\n",
              "100  2021-04-08  3766.57  5577.28  2021-04-09 22:01:16.899356 UTC   1008\n",
              "99   2021-04-08  3766.57  5577.24  2021-04-09 21:38:10.424114 UTC   1008"
            ]
          },
          "metadata": {
            "tags": []
          },
          "execution_count": 43
        }
      ]
    },
    {
      "cell_type": "code",
      "metadata": {
        "id": "l5PwLjqCiRpS"
      },
      "source": [
        "dates = list(ad_sys_sorted['date'].drop_duplicates())"
      ],
      "execution_count": 60,
      "outputs": []
    },
    {
      "cell_type": "code",
      "metadata": {
        "id": "TvJtxgIQzqJ2"
      },
      "source": [
        "traffic_id.append(ad_sys['affid'].drop_duplicates()[0])"
      ],
      "execution_count": 107,
      "outputs": []
    },
    {
      "cell_type": "code",
      "metadata": {
        "id": "dOHQI7bykTSg"
      },
      "source": [
        "revenue_traffic_source = [sum(ad_sys[ad_sys[\"date\"] == i]['revenue']) for i in dates]"
      ],
      "execution_count": 72,
      "outputs": []
    },
    {
      "cell_type": "code",
      "metadata": {
        "colab": {
          "base_uri": "https://localhost:8080/"
        },
        "id": "11xgmLOAyKqK",
        "outputId": "a0e5dac0-fd29-433c-e7bb-3a211614129b"
      },
      "source": [
        "spent_traffic_source = [sum(ad_sys[ad_sys[\"date\"] == i]['spent']) for i in dates]\n",
        "spent_traffic_source"
      ],
      "execution_count": 102,
      "outputs": [
        {
          "output_type": "execute_result",
          "data": {
            "text/plain": [
              "[660741.0000000003,\n",
              " 476842.890000001,\n",
              " 962145.4499999995,\n",
              " 1131503.600000003,\n",
              " 555452.69]"
            ]
          },
          "metadata": {
            "tags": []
          },
          "execution_count": 102
        }
      ]
    },
    {
      "cell_type": "code",
      "metadata": {
        "colab": {
          "base_uri": "https://localhost:8080/"
        },
        "id": "VXdvYOMuIGw0",
        "outputId": "d8a8b130-f482-4ec7-e82e-751a3cf995d6"
      },
      "source": [
        "ad_sys_sorted['affid'].value_counts()"
      ],
      "execution_count": 44,
      "outputs": [
        {
          "output_type": "execute_result",
          "data": {
            "text/plain": [
              "1008    775\n",
              "Name: affid, dtype: int64"
            ]
          },
          "metadata": {
            "tags": []
          },
          "execution_count": 44
        }
      ]
    },
    {
      "cell_type": "code",
      "metadata": {
        "colab": {
          "base_uri": "https://localhost:8080/",
          "height": 204
        },
        "id": "qPNE7pkEFaOP",
        "outputId": "9c8f7ccf-7496-4cf1-8ce4-d200a9e80e85"
      },
      "source": [
        "billing_sys_sorted = billing_sys.sort_values('created_at')\n",
        "billing_sys_sorted.head()"
      ],
      "execution_count": 45,
      "outputs": [
        {
          "output_type": "execute_result",
          "data": {
            "text/html": [
              "<div>\n",
              "<style scoped>\n",
              "    .dataframe tbody tr th:only-of-type {\n",
              "        vertical-align: middle;\n",
              "    }\n",
              "\n",
              "    .dataframe tbody tr th {\n",
              "        vertical-align: top;\n",
              "    }\n",
              "\n",
              "    .dataframe thead th {\n",
              "        text-align: right;\n",
              "    }\n",
              "</style>\n",
              "<table border=\"1\" class=\"dataframe\">\n",
              "  <thead>\n",
              "    <tr style=\"text-align: right;\">\n",
              "      <th></th>\n",
              "      <th>created_at</th>\n",
              "      <th>affid</th>\n",
              "      <th>amount</th>\n",
              "      <th>uid</th>\n",
              "    </tr>\n",
              "  </thead>\n",
              "  <tbody>\n",
              "    <tr>\n",
              "      <th>808</th>\n",
              "      <td>2021-04-08 00:42:37 UTC</td>\n",
              "      <td>1210.0</td>\n",
              "      <td>39.0</td>\n",
              "      <td>af95dacc</td>\n",
              "    </tr>\n",
              "    <tr>\n",
              "      <th>1059</th>\n",
              "      <td>2021-04-08 00:42:39 UTC</td>\n",
              "      <td>1210.0</td>\n",
              "      <td>17.0</td>\n",
              "      <td>af95dacc</td>\n",
              "    </tr>\n",
              "    <tr>\n",
              "      <th>352</th>\n",
              "      <td>2021-04-08 01:40:32 UTC</td>\n",
              "      <td>NaN</td>\n",
              "      <td>39.0</td>\n",
              "      <td>5222f905</td>\n",
              "    </tr>\n",
              "    <tr>\n",
              "      <th>404</th>\n",
              "      <td>2021-04-08 01:40:35 UTC</td>\n",
              "      <td>NaN</td>\n",
              "      <td>17.0</td>\n",
              "      <td>5222f905</td>\n",
              "    </tr>\n",
              "    <tr>\n",
              "      <th>891</th>\n",
              "      <td>2021-04-08 01:43:14 UTC</td>\n",
              "      <td>NaN</td>\n",
              "      <td>39.0</td>\n",
              "      <td>78bbfd33</td>\n",
              "    </tr>\n",
              "  </tbody>\n",
              "</table>\n",
              "</div>"
            ],
            "text/plain": [
              "                   created_at   affid  amount       uid\n",
              "808   2021-04-08 00:42:37 UTC  1210.0    39.0  af95dacc\n",
              "1059  2021-04-08 00:42:39 UTC  1210.0    17.0  af95dacc\n",
              "352   2021-04-08 01:40:32 UTC     NaN    39.0  5222f905\n",
              "404   2021-04-08 01:40:35 UTC     NaN    17.0  5222f905\n",
              "891   2021-04-08 01:43:14 UTC     NaN    39.0  78bbfd33"
            ]
          },
          "metadata": {
            "tags": []
          },
          "execution_count": 45
        }
      ]
    },
    {
      "cell_type": "code",
      "metadata": {
        "colab": {
          "base_uri": "https://localhost:8080/"
        },
        "id": "x1zlY1zz0G0q",
        "outputId": "56199c0f-2f4a-4cdf-d123-c60b0d421974"
      },
      "source": [
        "billing_traffic_id = [int(i) for i in billing_sys['affid'].dropna().drop_duplicates()]\n",
        "for i in billing_traffic_id:\n",
        "    if not(i in traffic_id):\n",
        "        traffic_id.append(i)\n",
        "traffic_id"
      ],
      "execution_count": 113,
      "outputs": [
        {
          "output_type": "execute_result",
          "data": {
            "text/plain": [
              "[1008,\n",
              " 1210,\n",
              " 1999,\n",
              " 1401,\n",
              " 1402,\n",
              " 1211,\n",
              " 1238,\n",
              " 1009,\n",
              " 1012,\n",
              " 1510,\n",
              " 1042,\n",
              " 1026,\n",
              " 1997,\n",
              " 1998,\n",
              " 1209,\n",
              " 1000]"
            ]
          },
          "metadata": {
            "tags": []
          },
          "execution_count": 113
        }
      ]
    },
    {
      "cell_type": "code",
      "metadata": {
        "id": "NmBtr-nAtWvZ"
      },
      "source": [
        "dates_billing = [i[:10] for i in billing_sys_sorted['created_at']]\n",
        "billing_sys_sorted_1 = billing_sys_sorted[:]"
      ],
      "execution_count": 97,
      "outputs": []
    },
    {
      "cell_type": "code",
      "metadata": {
        "colab": {
          "base_uri": "https://localhost:8080/",
          "height": 521
        },
        "id": "A6d6N3pLtgxd",
        "outputId": "584df3e2-f96f-4028-b29f-df246ede6325"
      },
      "source": [
        "billing_sys_sorted_1['dates'] = dates_billing\n",
        "billing_sys_sorted_1"
      ],
      "execution_count": 98,
      "outputs": [
        {
          "output_type": "stream",
          "text": [
            "/usr/local/lib/python3.7/dist-packages/ipykernel_launcher.py:1: SettingWithCopyWarning: \n",
            "A value is trying to be set on a copy of a slice from a DataFrame.\n",
            "Try using .loc[row_indexer,col_indexer] = value instead\n",
            "\n",
            "See the caveats in the documentation: https://pandas.pydata.org/pandas-docs/stable/user_guide/indexing.html#returning-a-view-versus-a-copy\n",
            "  \"\"\"Entry point for launching an IPython kernel.\n"
          ],
          "name": "stderr"
        },
        {
          "output_type": "execute_result",
          "data": {
            "text/html": [
              "<div>\n",
              "<style scoped>\n",
              "    .dataframe tbody tr th:only-of-type {\n",
              "        vertical-align: middle;\n",
              "    }\n",
              "\n",
              "    .dataframe tbody tr th {\n",
              "        vertical-align: top;\n",
              "    }\n",
              "\n",
              "    .dataframe thead th {\n",
              "        text-align: right;\n",
              "    }\n",
              "</style>\n",
              "<table border=\"1\" class=\"dataframe\">\n",
              "  <thead>\n",
              "    <tr style=\"text-align: right;\">\n",
              "      <th></th>\n",
              "      <th>created_at</th>\n",
              "      <th>affid</th>\n",
              "      <th>amount</th>\n",
              "      <th>uid</th>\n",
              "      <th>dates</th>\n",
              "    </tr>\n",
              "  </thead>\n",
              "  <tbody>\n",
              "    <tr>\n",
              "      <th>808</th>\n",
              "      <td>2021-04-08 00:42:37 UTC</td>\n",
              "      <td>1210.0</td>\n",
              "      <td>39.0</td>\n",
              "      <td>af95dacc</td>\n",
              "      <td>2021-04-08</td>\n",
              "    </tr>\n",
              "    <tr>\n",
              "      <th>1059</th>\n",
              "      <td>2021-04-08 00:42:39 UTC</td>\n",
              "      <td>1210.0</td>\n",
              "      <td>17.0</td>\n",
              "      <td>af95dacc</td>\n",
              "      <td>2021-04-08</td>\n",
              "    </tr>\n",
              "    <tr>\n",
              "      <th>352</th>\n",
              "      <td>2021-04-08 01:40:32 UTC</td>\n",
              "      <td>NaN</td>\n",
              "      <td>39.0</td>\n",
              "      <td>5222f905</td>\n",
              "      <td>2021-04-08</td>\n",
              "    </tr>\n",
              "    <tr>\n",
              "      <th>404</th>\n",
              "      <td>2021-04-08 01:40:35 UTC</td>\n",
              "      <td>NaN</td>\n",
              "      <td>17.0</td>\n",
              "      <td>5222f905</td>\n",
              "      <td>2021-04-08</td>\n",
              "    </tr>\n",
              "    <tr>\n",
              "      <th>891</th>\n",
              "      <td>2021-04-08 01:43:14 UTC</td>\n",
              "      <td>NaN</td>\n",
              "      <td>39.0</td>\n",
              "      <td>78bbfd33</td>\n",
              "      <td>2021-04-08</td>\n",
              "    </tr>\n",
              "    <tr>\n",
              "      <th>...</th>\n",
              "      <td>...</td>\n",
              "      <td>...</td>\n",
              "      <td>...</td>\n",
              "      <td>...</td>\n",
              "      <td>...</td>\n",
              "    </tr>\n",
              "    <tr>\n",
              "      <th>364</th>\n",
              "      <td>2021-04-11 23:33:47 UTC</td>\n",
              "      <td>NaN</td>\n",
              "      <td>39.0</td>\n",
              "      <td>a16592dd</td>\n",
              "      <td>2021-04-11</td>\n",
              "    </tr>\n",
              "    <tr>\n",
              "      <th>317</th>\n",
              "      <td>2021-04-11 23:33:47 UTC</td>\n",
              "      <td>1999.0</td>\n",
              "      <td>39.0</td>\n",
              "      <td>f629796f</td>\n",
              "      <td>2021-04-11</td>\n",
              "    </tr>\n",
              "    <tr>\n",
              "      <th>424</th>\n",
              "      <td>2021-04-11 23:33:47 UTC</td>\n",
              "      <td>NaN</td>\n",
              "      <td>17.0</td>\n",
              "      <td>a16592dd</td>\n",
              "      <td>2021-04-11</td>\n",
              "    </tr>\n",
              "    <tr>\n",
              "      <th>322</th>\n",
              "      <td>2021-04-11 23:40:50 UTC</td>\n",
              "      <td>1998.0</td>\n",
              "      <td>39.0</td>\n",
              "      <td>46c9243d</td>\n",
              "      <td>2021-04-11</td>\n",
              "    </tr>\n",
              "    <tr>\n",
              "      <th>821</th>\n",
              "      <td>2021-04-11 23:52:27 UTC</td>\n",
              "      <td>1210.0</td>\n",
              "      <td>39.0</td>\n",
              "      <td>c0bc9584</td>\n",
              "      <td>2021-04-11</td>\n",
              "    </tr>\n",
              "  </tbody>\n",
              "</table>\n",
              "<p>1125 rows × 5 columns</p>\n",
              "</div>"
            ],
            "text/plain": [
              "                   created_at   affid  amount       uid       dates\n",
              "808   2021-04-08 00:42:37 UTC  1210.0    39.0  af95dacc  2021-04-08\n",
              "1059  2021-04-08 00:42:39 UTC  1210.0    17.0  af95dacc  2021-04-08\n",
              "352   2021-04-08 01:40:32 UTC     NaN    39.0  5222f905  2021-04-08\n",
              "404   2021-04-08 01:40:35 UTC     NaN    17.0  5222f905  2021-04-08\n",
              "891   2021-04-08 01:43:14 UTC     NaN    39.0  78bbfd33  2021-04-08\n",
              "...                       ...     ...     ...       ...         ...\n",
              "364   2021-04-11 23:33:47 UTC     NaN    39.0  a16592dd  2021-04-11\n",
              "317   2021-04-11 23:33:47 UTC  1999.0    39.0  f629796f  2021-04-11\n",
              "424   2021-04-11 23:33:47 UTC     NaN    17.0  a16592dd  2021-04-11\n",
              "322   2021-04-11 23:40:50 UTC  1998.0    39.0  46c9243d  2021-04-11\n",
              "821   2021-04-11 23:52:27 UTC  1210.0    39.0  c0bc9584  2021-04-11\n",
              "\n",
              "[1125 rows x 5 columns]"
            ]
          },
          "metadata": {
            "tags": []
          },
          "execution_count": 98
        }
      ]
    },
    {
      "cell_type": "code",
      "metadata": {
        "colab": {
          "base_uri": "https://localhost:8080/"
        },
        "id": "uRLmtK3qtVNw",
        "outputId": "2b60f9e5-f99d-4f5c-ed45-37feee2d8d1f"
      },
      "source": [
        "revenue_billing_system = [sum(billing_sys_sorted_1[billing_sys_sorted_1['dates'] == i]['amount']) for i in dates]\n",
        "revenue_billing_system"
      ],
      "execution_count": 100,
      "outputs": [
        {
          "output_type": "execute_result",
          "data": {
            "text/plain": [
              "[11408.359999999997,\n",
              " 12738.809999999994,\n",
              " 13025.199999999999,\n",
              " 15427.759999999995,\n",
              " 0]"
            ]
          },
          "metadata": {
            "tags": []
          },
          "execution_count": 100
        }
      ]
    },
    {
      "cell_type": "code",
      "metadata": {
        "colab": {
          "base_uri": "https://localhost:8080/"
        },
        "id": "u5tWdXQnIPjF",
        "outputId": "0cce3065-8c4b-4cd6-f513-cb8be6de0a87"
      },
      "source": [
        "billing_sys_sorted['created_at']"
      ],
      "execution_count": 56,
      "outputs": [
        {
          "output_type": "execute_result",
          "data": {
            "text/plain": [
              "808     2021-04-08 00:42:37 UTC\n",
              "1059    2021-04-08 00:42:39 UTC\n",
              "352     2021-04-08 01:40:32 UTC\n",
              "404     2021-04-08 01:40:35 UTC\n",
              "891     2021-04-08 01:43:14 UTC\n",
              "                 ...           \n",
              "364     2021-04-11 23:33:47 UTC\n",
              "317     2021-04-11 23:33:47 UTC\n",
              "424     2021-04-11 23:33:47 UTC\n",
              "322     2021-04-11 23:40:50 UTC\n",
              "821     2021-04-11 23:52:27 UTC\n",
              "Name: created_at, Length: 1125, dtype: object"
            ]
          },
          "metadata": {
            "tags": []
          },
          "execution_count": 56
        }
      ]
    },
    {
      "cell_type": "code",
      "metadata": {
        "colab": {
          "base_uri": "https://localhost:8080/",
          "height": 204
        },
        "id": "Iz6iWjRfFjN2",
        "outputId": "c051fc86-06c9-4384-b35c-92738ea44812"
      },
      "source": [
        "internal_events_sorted = internal_events.sort_values('created_at')\n",
        "internal_events_sorted.head()"
      ],
      "execution_count": 87,
      "outputs": [
        {
          "output_type": "execute_result",
          "data": {
            "text/html": [
              "<div>\n",
              "<style scoped>\n",
              "    .dataframe tbody tr th:only-of-type {\n",
              "        vertical-align: middle;\n",
              "    }\n",
              "\n",
              "    .dataframe tbody tr th {\n",
              "        vertical-align: top;\n",
              "    }\n",
              "\n",
              "    .dataframe thead th {\n",
              "        text-align: right;\n",
              "    }\n",
              "</style>\n",
              "<table border=\"1\" class=\"dataframe\">\n",
              "  <thead>\n",
              "    <tr style=\"text-align: right;\">\n",
              "      <th></th>\n",
              "      <th>created_at</th>\n",
              "      <th>affid</th>\n",
              "      <th>revenue</th>\n",
              "      <th>user_id</th>\n",
              "    </tr>\n",
              "  </thead>\n",
              "  <tbody>\n",
              "    <tr>\n",
              "      <th>524</th>\n",
              "      <td>2021-04-08 00:42:41.660847 UTC</td>\n",
              "      <td>1210.0</td>\n",
              "      <td>39.0</td>\n",
              "      <td>15231978</td>\n",
              "    </tr>\n",
              "    <tr>\n",
              "      <th>838</th>\n",
              "      <td>2021-04-08 00:42:41.696956 UTC</td>\n",
              "      <td>1210.0</td>\n",
              "      <td>17.0</td>\n",
              "      <td>15231978</td>\n",
              "    </tr>\n",
              "    <tr>\n",
              "      <th>541</th>\n",
              "      <td>2021-04-08 01:40:38.070808 UTC</td>\n",
              "      <td>NaN</td>\n",
              "      <td>17.0</td>\n",
              "      <td>15232455</td>\n",
              "    </tr>\n",
              "    <tr>\n",
              "      <th>1285</th>\n",
              "      <td>2021-04-08 01:41:58.149923 UTC</td>\n",
              "      <td>NaN</td>\n",
              "      <td>39.0</td>\n",
              "      <td>15232455</td>\n",
              "    </tr>\n",
              "    <tr>\n",
              "      <th>1212</th>\n",
              "      <td>2021-04-08 01:43:18.045212 UTC</td>\n",
              "      <td>NaN</td>\n",
              "      <td>39.0</td>\n",
              "      <td>15232476</td>\n",
              "    </tr>\n",
              "  </tbody>\n",
              "</table>\n",
              "</div>"
            ],
            "text/plain": [
              "                          created_at   affid  revenue   user_id\n",
              "524   2021-04-08 00:42:41.660847 UTC  1210.0     39.0  15231978\n",
              "838   2021-04-08 00:42:41.696956 UTC  1210.0     17.0  15231978\n",
              "541   2021-04-08 01:40:38.070808 UTC     NaN     17.0  15232455\n",
              "1285  2021-04-08 01:41:58.149923 UTC     NaN     39.0  15232455\n",
              "1212  2021-04-08 01:43:18.045212 UTC     NaN     39.0  15232476"
            ]
          },
          "metadata": {
            "tags": []
          },
          "execution_count": 87
        }
      ]
    },
    {
      "cell_type": "code",
      "metadata": {
        "id": "ZEbwvcWV1FZd"
      },
      "source": [
        "events_traffic_id = [int(i) for i in internal_events['affid'].dropna().drop_duplicates()]\n",
        "for i in events_traffic_id:\n",
        "    if not(i in traffic_id):\n",
        "        traffic_id.append(i)"
      ],
      "execution_count": 115,
      "outputs": []
    },
    {
      "cell_type": "code",
      "metadata": {
        "id": "9FTE6gl8p4kq"
      },
      "source": [
        "dates_events = [i[:10] for i in internal_events_sorted['created_at']]\n",
        "internal_events_sorted_1 = internal_events_sorted[:]"
      ],
      "execution_count": 88,
      "outputs": []
    },
    {
      "cell_type": "code",
      "metadata": {
        "colab": {
          "base_uri": "https://localhost:8080/",
          "height": 521
        },
        "id": "yajbIMborRUA",
        "outputId": "5bd553ab-66ac-4490-fd6b-fe41546e79bc"
      },
      "source": [
        "internal_events_sorted_1['dates'] = dates_events\n",
        "internal_events_sorted_1"
      ],
      "execution_count": 93,
      "outputs": [
        {
          "output_type": "stream",
          "text": [
            "/usr/local/lib/python3.7/dist-packages/ipykernel_launcher.py:1: SettingWithCopyWarning: \n",
            "A value is trying to be set on a copy of a slice from a DataFrame.\n",
            "Try using .loc[row_indexer,col_indexer] = value instead\n",
            "\n",
            "See the caveats in the documentation: https://pandas.pydata.org/pandas-docs/stable/user_guide/indexing.html#returning-a-view-versus-a-copy\n",
            "  \"\"\"Entry point for launching an IPython kernel.\n"
          ],
          "name": "stderr"
        },
        {
          "output_type": "execute_result",
          "data": {
            "text/html": [
              "<div>\n",
              "<style scoped>\n",
              "    .dataframe tbody tr th:only-of-type {\n",
              "        vertical-align: middle;\n",
              "    }\n",
              "\n",
              "    .dataframe tbody tr th {\n",
              "        vertical-align: top;\n",
              "    }\n",
              "\n",
              "    .dataframe thead th {\n",
              "        text-align: right;\n",
              "    }\n",
              "</style>\n",
              "<table border=\"1\" class=\"dataframe\">\n",
              "  <thead>\n",
              "    <tr style=\"text-align: right;\">\n",
              "      <th></th>\n",
              "      <th>created_at</th>\n",
              "      <th>affid</th>\n",
              "      <th>revenue</th>\n",
              "      <th>user_id</th>\n",
              "      <th>dates</th>\n",
              "    </tr>\n",
              "  </thead>\n",
              "  <tbody>\n",
              "    <tr>\n",
              "      <th>524</th>\n",
              "      <td>2021-04-08 00:42:41.660847 UTC</td>\n",
              "      <td>1210.0</td>\n",
              "      <td>39.0</td>\n",
              "      <td>15231978</td>\n",
              "      <td>2021-04-08</td>\n",
              "    </tr>\n",
              "    <tr>\n",
              "      <th>838</th>\n",
              "      <td>2021-04-08 00:42:41.696956 UTC</td>\n",
              "      <td>1210.0</td>\n",
              "      <td>17.0</td>\n",
              "      <td>15231978</td>\n",
              "      <td>2021-04-08</td>\n",
              "    </tr>\n",
              "    <tr>\n",
              "      <th>541</th>\n",
              "      <td>2021-04-08 01:40:38.070808 UTC</td>\n",
              "      <td>NaN</td>\n",
              "      <td>17.0</td>\n",
              "      <td>15232455</td>\n",
              "      <td>2021-04-08</td>\n",
              "    </tr>\n",
              "    <tr>\n",
              "      <th>1285</th>\n",
              "      <td>2021-04-08 01:41:58.149923 UTC</td>\n",
              "      <td>NaN</td>\n",
              "      <td>39.0</td>\n",
              "      <td>15232455</td>\n",
              "      <td>2021-04-08</td>\n",
              "    </tr>\n",
              "    <tr>\n",
              "      <th>1212</th>\n",
              "      <td>2021-04-08 01:43:18.045212 UTC</td>\n",
              "      <td>NaN</td>\n",
              "      <td>39.0</td>\n",
              "      <td>15232476</td>\n",
              "      <td>2021-04-08</td>\n",
              "    </tr>\n",
              "    <tr>\n",
              "      <th>...</th>\n",
              "      <td>...</td>\n",
              "      <td>...</td>\n",
              "      <td>...</td>\n",
              "      <td>...</td>\n",
              "      <td>...</td>\n",
              "    </tr>\n",
              "    <tr>\n",
              "      <th>1284</th>\n",
              "      <td>2021-04-11 23:33:25.845878 UTC</td>\n",
              "      <td>1999.0</td>\n",
              "      <td>17.0</td>\n",
              "      <td>15251526</td>\n",
              "      <td>2021-04-11</td>\n",
              "    </tr>\n",
              "    <tr>\n",
              "      <th>1308</th>\n",
              "      <td>2021-04-11 23:33:50.690354 UTC</td>\n",
              "      <td>NaN</td>\n",
              "      <td>56.0</td>\n",
              "      <td>15251529</td>\n",
              "      <td>2021-04-11</td>\n",
              "    </tr>\n",
              "    <tr>\n",
              "      <th>256</th>\n",
              "      <td>2021-04-11 23:33:51.187994 UTC</td>\n",
              "      <td>1999.0</td>\n",
              "      <td>39.0</td>\n",
              "      <td>15251466</td>\n",
              "      <td>2021-04-11</td>\n",
              "    </tr>\n",
              "    <tr>\n",
              "      <th>1309</th>\n",
              "      <td>2021-04-11 23:40:52.799550 UTC</td>\n",
              "      <td>1998.0</td>\n",
              "      <td>39.0</td>\n",
              "      <td>15251452</td>\n",
              "      <td>2021-04-11</td>\n",
              "    </tr>\n",
              "    <tr>\n",
              "      <th>72</th>\n",
              "      <td>2021-04-11 23:52:31.252695 UTC</td>\n",
              "      <td>1210.0</td>\n",
              "      <td>39.0</td>\n",
              "      <td>15251576</td>\n",
              "      <td>2021-04-11</td>\n",
              "    </tr>\n",
              "  </tbody>\n",
              "</table>\n",
              "<p>1459 rows × 5 columns</p>\n",
              "</div>"
            ],
            "text/plain": [
              "                          created_at   affid  revenue   user_id       dates\n",
              "524   2021-04-08 00:42:41.660847 UTC  1210.0     39.0  15231978  2021-04-08\n",
              "838   2021-04-08 00:42:41.696956 UTC  1210.0     17.0  15231978  2021-04-08\n",
              "541   2021-04-08 01:40:38.070808 UTC     NaN     17.0  15232455  2021-04-08\n",
              "1285  2021-04-08 01:41:58.149923 UTC     NaN     39.0  15232455  2021-04-08\n",
              "1212  2021-04-08 01:43:18.045212 UTC     NaN     39.0  15232476  2021-04-08\n",
              "...                              ...     ...      ...       ...         ...\n",
              "1284  2021-04-11 23:33:25.845878 UTC  1999.0     17.0  15251526  2021-04-11\n",
              "1308  2021-04-11 23:33:50.690354 UTC     NaN     56.0  15251529  2021-04-11\n",
              "256   2021-04-11 23:33:51.187994 UTC  1999.0     39.0  15251466  2021-04-11\n",
              "1309  2021-04-11 23:40:52.799550 UTC  1998.0     39.0  15251452  2021-04-11\n",
              "72    2021-04-11 23:52:31.252695 UTC  1210.0     39.0  15251576  2021-04-11\n",
              "\n",
              "[1459 rows x 5 columns]"
            ]
          },
          "metadata": {
            "tags": []
          },
          "execution_count": 93
        }
      ]
    },
    {
      "cell_type": "code",
      "metadata": {
        "id": "4lvJV7aBooom"
      },
      "source": [
        "revenue_pixel = [sum(internal_events_sorted_1[i == internal_events_sorted_1['dates']]['revenue']) for i in dates]"
      ],
      "execution_count": 95,
      "outputs": []
    },
    {
      "cell_type": "code",
      "metadata": {
        "colab": {
          "base_uri": "https://localhost:8080/"
        },
        "id": "uEzvzWGDqvOU",
        "outputId": "933bb017-3162-483c-89fe-04f969af9cf0"
      },
      "source": [
        "revenue_pixel"
      ],
      "execution_count": 96,
      "outputs": [
        {
          "output_type": "execute_result",
          "data": {
            "text/plain": [
              "[18649.169999999987,\n",
              " 21337.160000000014,\n",
              " 29908.020000000048,\n",
              " 33605.350000000064,\n",
              " 0]"
            ]
          },
          "metadata": {
            "tags": []
          },
          "execution_count": 96
        }
      ]
    },
    {
      "cell_type": "code",
      "metadata": {
        "colab": {
          "base_uri": "https://localhost:8080/"
        },
        "id": "quoXGDQiIVVO",
        "outputId": "e9db4d79-e9a4-4d7b-b6ab-a47505821520"
      },
      "source": [
        "internal_events['affid'].value_counts()"
      ],
      "execution_count": 48,
      "outputs": [
        {
          "output_type": "execute_result",
          "data": {
            "text/plain": [
              "2010.0    442\n",
              "1008.0    290\n",
              "1999.0    164\n",
              "1210.0    160\n",
              "1402.0    110\n",
              "2999.0     47\n",
              "1211.0     35\n",
              "1209.0     27\n",
              "1009.0     25\n",
              "1401.0     16\n",
              "1997.0      6\n",
              "1998.0      6\n",
              "1000.0      4\n",
              "1238.0      3\n",
              "1042.0      3\n",
              "2510.0      1\n",
              "1012.0      1\n",
              "1026.0      1\n",
              "1510.0      1\n",
              "2211.0      1\n",
              "Name: affid, dtype: int64"
            ]
          },
          "metadata": {
            "tags": []
          },
          "execution_count": 48
        }
      ]
    },
    {
      "cell_type": "code",
      "metadata": {
        "id": "Dt1xNkmY1TSr"
      },
      "source": [
        "traffic_id.sort() "
      ],
      "execution_count": 117,
      "outputs": []
    },
    {
      "cell_type": "code",
      "metadata": {
        "colab": {
          "base_uri": "https://localhost:8080/"
        },
        "id": "tMREDsYp1ivW",
        "outputId": "6d2f9970-0f19-4524-e117-0b394742e886"
      },
      "source": [
        "traffic_id_names_col = ['revenue_' + str(i) for i in traffic_id]\n",
        "traffic_id_names_col"
      ],
      "execution_count": 121,
      "outputs": [
        {
          "output_type": "execute_result",
          "data": {
            "text/plain": [
              "['revenue_1000',\n",
              " 'revenue_1008',\n",
              " 'revenue_1009',\n",
              " 'revenue_1012',\n",
              " 'revenue_1026',\n",
              " 'revenue_1042',\n",
              " 'revenue_1209',\n",
              " 'revenue_1210',\n",
              " 'revenue_1211',\n",
              " 'revenue_1238',\n",
              " 'revenue_1401',\n",
              " 'revenue_1402',\n",
              " 'revenue_1510',\n",
              " 'revenue_1997',\n",
              " 'revenue_1998',\n",
              " 'revenue_1999',\n",
              " 'revenue_2010',\n",
              " 'revenue_2211',\n",
              " 'revenue_2510',\n",
              " 'revenue_2999']"
            ]
          },
          "metadata": {
            "tags": []
          },
          "execution_count": 121
        }
      ]
    },
    {
      "cell_type": "code",
      "metadata": {
        "id": "D6j2b3CF1_6G"
      },
      "source": [
        "revenue_ = [0 for i in traffic_id]"
      ],
      "execution_count": 148,
      "outputs": []
    },
    {
      "cell_type": "code",
      "metadata": {
        "colab": {
          "base_uri": "https://localhost:8080/"
        },
        "id": "qxrRgbgo4SyM",
        "outputId": "31d50ec1-7351-489b-8bf0-c490f2a59feb"
      },
      "source": [
        "billing_sys_sorted"
      ],
      "execution_count": 138,
      "outputs": [
        {
          "output_type": "execute_result",
          "data": {
            "text/plain": [
              "775"
            ]
          },
          "metadata": {
            "tags": []
          },
          "execution_count": 138
        }
      ]
    },
    {
      "cell_type": "code",
      "metadata": {
        "id": "QzzPTBUF2MdW"
      },
      "source": [
        "for id in range(len(traffic_id)):\n",
        "    revenue_[id] = []\n",
        "    for date in dates:\n",
        "        summ = 0\n",
        "        ass = ad_sys_sorted[ad_sys_sorted['date'] == date][['revenue','affid']]\n",
        "        summ += sum(ass[ass['affid'] == traffic_id[id]]['revenue'])\n",
        "        bss = billing_sys_sorted_1[billing_sys_sorted_1['dates'] == date][['amount','affid']]\n",
        "        summ += sum(bss[bss['affid'] == traffic_id[id]]['amount'])\n",
        "        ies = internal_events_sorted_1[internal_events_sorted_1['dates'] == date][['revenue','affid']]\n",
        "        summ += sum(ies[ies['affid'] == traffic_id[id]]['revenue'])\n",
        "        revenue_[id].append(summ)"
      ],
      "execution_count": 149,
      "outputs": []
    },
    {
      "cell_type": "code",
      "metadata": {
        "colab": {
          "base_uri": "https://localhost:8080/"
        },
        "id": "MFfgF0Pz3cN3",
        "outputId": "2c72c6a3-803d-444d-d525-80d7249fc44c"
      },
      "source": [
        "columns_name = ['date', 'revenue_traffic_source', 'revenue_pixel', 'revenue_billing_system']\n",
        "for i in traffic_id_names_col:\n",
        "    columns_name.append(i)\n",
        "columns_name.append('spent_traffic_source')\n",
        "columns_name"
      ],
      "execution_count": 150,
      "outputs": [
        {
          "output_type": "execute_result",
          "data": {
            "text/plain": [
              "['date',\n",
              " 'revenue_traffic_source',\n",
              " 'revenue_pixel',\n",
              " 'revenue_billing_system',\n",
              " 'revenue_1000',\n",
              " 'revenue_1008',\n",
              " 'revenue_1009',\n",
              " 'revenue_1012',\n",
              " 'revenue_1026',\n",
              " 'revenue_1042',\n",
              " 'revenue_1209',\n",
              " 'revenue_1210',\n",
              " 'revenue_1211',\n",
              " 'revenue_1238',\n",
              " 'revenue_1401',\n",
              " 'revenue_1402',\n",
              " 'revenue_1510',\n",
              " 'revenue_1997',\n",
              " 'revenue_1998',\n",
              " 'revenue_1999',\n",
              " 'revenue_2010',\n",
              " 'revenue_2211',\n",
              " 'revenue_2510',\n",
              " 'revenue_2999',\n",
              " 'spent_traffic_source']"
            ]
          },
          "metadata": {
            "tags": []
          },
          "execution_count": 150
        }
      ]
    },
    {
      "cell_type": "code",
      "metadata": {
        "colab": {
          "base_uri": "https://localhost:8080/",
          "height": 204
        },
        "id": "LPynonVGFmF3",
        "outputId": "610d3e7e-6087-4efd-fd5a-55c2517a4f4f"
      },
      "source": [
        "uid_to_user_id.head()"
      ],
      "execution_count": 49,
      "outputs": [
        {
          "output_type": "execute_result",
          "data": {
            "text/html": [
              "<div>\n",
              "<style scoped>\n",
              "    .dataframe tbody tr th:only-of-type {\n",
              "        vertical-align: middle;\n",
              "    }\n",
              "\n",
              "    .dataframe tbody tr th {\n",
              "        vertical-align: top;\n",
              "    }\n",
              "\n",
              "    .dataframe thead th {\n",
              "        text-align: right;\n",
              "    }\n",
              "</style>\n",
              "<table border=\"1\" class=\"dataframe\">\n",
              "  <thead>\n",
              "    <tr style=\"text-align: right;\">\n",
              "      <th></th>\n",
              "      <th>uid</th>\n",
              "      <th>user_id</th>\n",
              "    </tr>\n",
              "  </thead>\n",
              "  <tbody>\n",
              "    <tr>\n",
              "      <th>0</th>\n",
              "      <td>ab99a80e</td>\n",
              "      <td>15240245</td>\n",
              "    </tr>\n",
              "    <tr>\n",
              "      <th>1</th>\n",
              "      <td>f7c8256c</td>\n",
              "      <td>15235689</td>\n",
              "    </tr>\n",
              "    <tr>\n",
              "      <th>2</th>\n",
              "      <td>6b7dd846</td>\n",
              "      <td>15233251</td>\n",
              "    </tr>\n",
              "    <tr>\n",
              "      <th>3</th>\n",
              "      <td>685c6868</td>\n",
              "      <td>15240351</td>\n",
              "    </tr>\n",
              "    <tr>\n",
              "      <th>4</th>\n",
              "      <td>54314e60</td>\n",
              "      <td>15243647</td>\n",
              "    </tr>\n",
              "  </tbody>\n",
              "</table>\n",
              "</div>"
            ],
            "text/plain": [
              "        uid   user_id\n",
              "0  ab99a80e  15240245\n",
              "1  f7c8256c  15235689\n",
              "2  6b7dd846  15233251\n",
              "3  685c6868  15240351\n",
              "4  54314e60  15243647"
            ]
          },
          "metadata": {
            "tags": []
          },
          "execution_count": 49
        }
      ]
    },
    {
      "cell_type": "code",
      "metadata": {
        "colab": {
          "base_uri": "https://localhost:8080/",
          "height": 309
        },
        "id": "93IQBoKK9wUP",
        "outputId": "1dbfedca-5312-4402-d96b-733d0ba92080"
      },
      "source": [
        "itog_df = pd.DataFrame({'date':dates})\n",
        "itog_df['revenue_traffic_source'] = revenue_traffic_source\n",
        "itog_df['revenue_pixel'] = revenue_pixel\n",
        "itog_df['revenue_billing_system'] = revenue_billing_system\n",
        "for i in range(len(traffic_id_names_col)):\n",
        "    itog_df[traffic_id_names_col[i]] = revenue_[i]\n",
        "itog_df['spent_traffic_source'] = spent_traffic_source\n",
        "#itog_df.index = dates #Это если захочется индексирование по датам\n",
        "itog_df"
      ],
      "execution_count": 159,
      "outputs": [
        {
          "output_type": "execute_result",
          "data": {
            "text/html": [
              "<div>\n",
              "<style scoped>\n",
              "    .dataframe tbody tr th:only-of-type {\n",
              "        vertical-align: middle;\n",
              "    }\n",
              "\n",
              "    .dataframe tbody tr th {\n",
              "        vertical-align: top;\n",
              "    }\n",
              "\n",
              "    .dataframe thead th {\n",
              "        text-align: right;\n",
              "    }\n",
              "</style>\n",
              "<table border=\"1\" class=\"dataframe\">\n",
              "  <thead>\n",
              "    <tr style=\"text-align: right;\">\n",
              "      <th></th>\n",
              "      <th>date</th>\n",
              "      <th>revenue_traffic_source</th>\n",
              "      <th>revenue_pixel</th>\n",
              "      <th>revenue_billing_system</th>\n",
              "      <th>revenue_1000</th>\n",
              "      <th>revenue_1008</th>\n",
              "      <th>revenue_1009</th>\n",
              "      <th>revenue_1012</th>\n",
              "      <th>revenue_1026</th>\n",
              "      <th>revenue_1042</th>\n",
              "      <th>revenue_1209</th>\n",
              "      <th>revenue_1210</th>\n",
              "      <th>revenue_1211</th>\n",
              "      <th>revenue_1238</th>\n",
              "      <th>revenue_1401</th>\n",
              "      <th>revenue_1402</th>\n",
              "      <th>revenue_1510</th>\n",
              "      <th>revenue_1997</th>\n",
              "      <th>revenue_1998</th>\n",
              "      <th>revenue_1999</th>\n",
              "      <th>revenue_2010</th>\n",
              "      <th>revenue_2211</th>\n",
              "      <th>revenue_2510</th>\n",
              "      <th>revenue_2999</th>\n",
              "      <th>spent_traffic_source</th>\n",
              "    </tr>\n",
              "  </thead>\n",
              "  <tbody>\n",
              "    <tr>\n",
              "      <th>2021-04-08</th>\n",
              "      <td>2021-04-08</td>\n",
              "      <td>412154.62</td>\n",
              "      <td>18649.17</td>\n",
              "      <td>11408.36</td>\n",
              "      <td>39.0</td>\n",
              "      <td>419776.80</td>\n",
              "      <td>691.98</td>\n",
              "      <td>0.0</td>\n",
              "      <td>0.0</td>\n",
              "      <td>0.0</td>\n",
              "      <td>502.00</td>\n",
              "      <td>3364.00</td>\n",
              "      <td>405.35</td>\n",
              "      <td>0.0</td>\n",
              "      <td>556.03</td>\n",
              "      <td>1735.98</td>\n",
              "      <td>0.0</td>\n",
              "      <td>0.00</td>\n",
              "      <td>190.00</td>\n",
              "      <td>4093.69</td>\n",
              "      <td>6062.31</td>\n",
              "      <td>0.0</td>\n",
              "      <td>0.0</td>\n",
              "      <td>1089.17</td>\n",
              "      <td>660741.00</td>\n",
              "    </tr>\n",
              "    <tr>\n",
              "      <th>2021-04-09</th>\n",
              "      <td>2021-04-09</td>\n",
              "      <td>413908.00</td>\n",
              "      <td>21337.16</td>\n",
              "      <td>12738.81</td>\n",
              "      <td>0.0</td>\n",
              "      <td>421297.00</td>\n",
              "      <td>1624.00</td>\n",
              "      <td>78.0</td>\n",
              "      <td>78.0</td>\n",
              "      <td>0.0</td>\n",
              "      <td>796.00</td>\n",
              "      <td>4174.06</td>\n",
              "      <td>752.01</td>\n",
              "      <td>0.0</td>\n",
              "      <td>78.00</td>\n",
              "      <td>4467.97</td>\n",
              "      <td>0.0</td>\n",
              "      <td>433.92</td>\n",
              "      <td>0.00</td>\n",
              "      <td>2935.04</td>\n",
              "      <td>7882.06</td>\n",
              "      <td>0.0</td>\n",
              "      <td>0.0</td>\n",
              "      <td>599.97</td>\n",
              "      <td>476842.89</td>\n",
              "    </tr>\n",
              "    <tr>\n",
              "      <th>2021-04-10</th>\n",
              "      <td>2021-04-10</td>\n",
              "      <td>585574.94</td>\n",
              "      <td>29908.02</td>\n",
              "      <td>13025.20</td>\n",
              "      <td>0.0</td>\n",
              "      <td>593597.66</td>\n",
              "      <td>476.01</td>\n",
              "      <td>0.0</td>\n",
              "      <td>0.0</td>\n",
              "      <td>276.0</td>\n",
              "      <td>866.80</td>\n",
              "      <td>5454.83</td>\n",
              "      <td>1410.01</td>\n",
              "      <td>78.0</td>\n",
              "      <td>510.00</td>\n",
              "      <td>2382.00</td>\n",
              "      <td>0.0</td>\n",
              "      <td>0.00</td>\n",
              "      <td>0.00</td>\n",
              "      <td>1779.78</td>\n",
              "      <td>14722.85</td>\n",
              "      <td>160.0</td>\n",
              "      <td>0.0</td>\n",
              "      <td>2258.24</td>\n",
              "      <td>962145.45</td>\n",
              "    </tr>\n",
              "    <tr>\n",
              "      <th>2021-04-11</th>\n",
              "      <td>2021-04-11</td>\n",
              "      <td>763605.33</td>\n",
              "      <td>33605.35</td>\n",
              "      <td>15427.76</td>\n",
              "      <td>518.0</td>\n",
              "      <td>774330.21</td>\n",
              "      <td>786.01</td>\n",
              "      <td>0.0</td>\n",
              "      <td>0.0</td>\n",
              "      <td>78.0</td>\n",
              "      <td>1777.96</td>\n",
              "      <td>5391.96</td>\n",
              "      <td>1527.96</td>\n",
              "      <td>112.0</td>\n",
              "      <td>931.98</td>\n",
              "      <td>3162.01</td>\n",
              "      <td>78.0</td>\n",
              "      <td>9.97</td>\n",
              "      <td>255.98</td>\n",
              "      <td>3173.64</td>\n",
              "      <td>16094.15</td>\n",
              "      <td>0.0</td>\n",
              "      <td>160.0</td>\n",
              "      <td>1446.65</td>\n",
              "      <td>1131503.60</td>\n",
              "    </tr>\n",
              "    <tr>\n",
              "      <th>2021-04-12</th>\n",
              "      <td>2021-04-12</td>\n",
              "      <td>315725.46</td>\n",
              "      <td>0.00</td>\n",
              "      <td>0.00</td>\n",
              "      <td>0.0</td>\n",
              "      <td>315725.46</td>\n",
              "      <td>0.00</td>\n",
              "      <td>0.0</td>\n",
              "      <td>0.0</td>\n",
              "      <td>0.0</td>\n",
              "      <td>0.00</td>\n",
              "      <td>0.00</td>\n",
              "      <td>0.00</td>\n",
              "      <td>0.0</td>\n",
              "      <td>0.00</td>\n",
              "      <td>0.00</td>\n",
              "      <td>0.0</td>\n",
              "      <td>0.00</td>\n",
              "      <td>0.00</td>\n",
              "      <td>0.00</td>\n",
              "      <td>0.00</td>\n",
              "      <td>0.0</td>\n",
              "      <td>0.0</td>\n",
              "      <td>0.00</td>\n",
              "      <td>555452.69</td>\n",
              "    </tr>\n",
              "  </tbody>\n",
              "</table>\n",
              "</div>"
            ],
            "text/plain": [
              "                  date  ...  spent_traffic_source\n",
              "2021-04-08  2021-04-08  ...             660741.00\n",
              "2021-04-09  2021-04-09  ...             476842.89\n",
              "2021-04-10  2021-04-10  ...             962145.45\n",
              "2021-04-11  2021-04-11  ...            1131503.60\n",
              "2021-04-12  2021-04-12  ...             555452.69\n",
              "\n",
              "[5 rows x 25 columns]"
            ]
          },
          "metadata": {
            "tags": []
          },
          "execution_count": 159
        }
      ]
    }
  ]
}