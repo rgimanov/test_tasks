{
  "nbformat": 4,
  "nbformat_minor": 0,
  "metadata": {
    "colab": {
      "name": "final_result_test.ipynb",
      "provenance": [],
      "collapsed_sections": []
    },
    "kernelspec": {
      "name": "python3",
      "display_name": "Python 3"
    },
    "language_info": {
      "name": "python"
    }
  },
  "cells": [
    {
      "cell_type": "code",
      "metadata": {
        "id": "wdmzgoLq9sk7"
      },
      "source": [
        "import pandas as pd\n",
        "import numpy as np"
      ],
      "execution_count": 1,
      "outputs": []
    },
    {
      "cell_type": "code",
      "metadata": {
        "id": "gNN9P2vQzA4H"
      },
      "source": [
        "markup = pd.read_csv('markup.csv', sep = ';')\n",
        "valid = pd.read_csv('valid.csv', sep = ';')"
      ],
      "execution_count": 3,
      "outputs": []
    },
    {
      "cell_type": "code",
      "metadata": {
        "id": "uA4WVQ8DooYl"
      },
      "source": [
        "markup = pd.read_csv('markup.csv', sep = ';')"
      ],
      "execution_count": 4,
      "outputs": []
    },
    {
      "cell_type": "code",
      "metadata": {
        "colab": {
          "base_uri": "https://localhost:8080/",
          "height": 142
        },
        "id": "oyMMPg8rVDfR",
        "outputId": "c562f212-7a68-4ae2-87ef-7748d04946ee"
      },
      "source": [
        "valid"
      ],
      "execution_count": 5,
      "outputs": [
        {
          "output_type": "execute_result",
          "data": {
            "text/html": [
              "<div>\n",
              "<style scoped>\n",
              "    .dataframe tbody tr th:only-of-type {\n",
              "        vertical-align: middle;\n",
              "    }\n",
              "\n",
              "    .dataframe tbody tr th {\n",
              "        vertical-align: top;\n",
              "    }\n",
              "\n",
              "    .dataframe thead th {\n",
              "        text-align: right;\n",
              "    }\n",
              "</style>\n",
              "<table border=\"1\" class=\"dataframe\">\n",
              "  <thead>\n",
              "    <tr style=\"text-align: right;\">\n",
              "      <th></th>\n",
              "      <th>text_id</th>\n",
              "      <th>subject1</th>\n",
              "      <th>subject2</th>\n",
              "      <th>subject3</th>\n",
              "      <th>subject4</th>\n",
              "      <th>ans_set</th>\n",
              "    </tr>\n",
              "  </thead>\n",
              "  <tbody>\n",
              "    <tr>\n",
              "      <th>0</th>\n",
              "      <td>text_id1</td>\n",
              "      <td>mq3</td>\n",
              "      <td>mq2</td>\n",
              "      <td>mq2</td>\n",
              "      <td>mq3</td>\n",
              "      <td>NaN</td>\n",
              "    </tr>\n",
              "    <tr>\n",
              "      <th>1</th>\n",
              "      <td>text_id2</td>\n",
              "      <td>NaN</td>\n",
              "      <td>NaN</td>\n",
              "      <td>NaN</td>\n",
              "      <td>NaN</td>\n",
              "      <td>2</td>\n",
              "    </tr>\n",
              "    <tr>\n",
              "      <th>2</th>\n",
              "      <td>text_id4</td>\n",
              "      <td>NaN</td>\n",
              "      <td>NaN</td>\n",
              "      <td>NaN</td>\n",
              "      <td>NaN</td>\n",
              "      <td>1;3</td>\n",
              "    </tr>\n",
              "  </tbody>\n",
              "</table>\n",
              "</div>"
            ],
            "text/plain": [
              "    text_id subject1 subject2 subject3 subject4 ans_set\n",
              "0  text_id1      mq3      mq2      mq2      mq3     NaN\n",
              "1  text_id2      NaN      NaN      NaN      NaN       2\n",
              "2  text_id4      NaN      NaN      NaN      NaN     1;3"
            ]
          },
          "metadata": {
            "tags": []
          },
          "execution_count": 5
        }
      ]
    },
    {
      "cell_type": "markdown",
      "metadata": {
        "id": "717O9FaOmIjo"
      },
      "source": [
        "# Делаем обязательную часть из условия задачи:\n",
        "1. переводим markup_dt в datetime\n",
        "2. проставляем порядковый номер ans_set для ответа размечтика"
      ]
    },
    {
      "cell_type": "code",
      "metadata": {
        "id": "BvdZQ780VLB3"
      },
      "source": [
        "# присваиваем ans_set\n",
        "\n",
        "markup['markup_dt'] = pd.to_datetime(markup['markup_dt'])  # трансформируем в нужный тип данных\n",
        "markup.sort_values(by=['text_id', 'markup_dt'], ascending=[True, True], \n",
        "                   inplace=True)  # сортируем по каждому тексту ответы разметчиков по времени\n",
        "markup['ans_set'] = markup.groupby(['text_id'])['markup_dt'].rank()  # присваиваем ans_set от 1 до 3 для каждого текста\n",
        "markup['ans_set'] = markup['ans_set'].astype(int)"
      ],
      "execution_count": 6,
      "outputs": []
    },
    {
      "cell_type": "markdown",
      "metadata": {
        "id": "I3-T9P6JmVC7"
      },
      "source": [
        "# Решаем задачу №1 - создать витрину правильных ответов по каждому тексту, который пойдет на разметку"
      ]
    },
    {
      "cell_type": "code",
      "metadata": {
        "id": "MhX-NjEQc0fy"
      },
      "source": [
        "# создаем датасет, куда будем складывать правильные ответы\n",
        "\n",
        "markup_answers = pd.DataFrame()\n",
        "texts = list(set(markup['text_id'].values))\n",
        "markup_answers['text_id'] = texts"
      ],
      "execution_count": 7,
      "outputs": []
    },
    {
      "cell_type": "code",
      "metadata": {
        "colab": {
          "base_uri": "https://localhost:8080/",
          "height": 173
        },
        "id": "aCw-B5oGbmZu",
        "outputId": "6e6f7b12-4898-415e-a1c0-ab5c0b9dcc7c"
      },
      "source": [
        "markup_answers"
      ],
      "execution_count": 8,
      "outputs": [
        {
          "output_type": "execute_result",
          "data": {
            "text/html": [
              "<div>\n",
              "<style scoped>\n",
              "    .dataframe tbody tr th:only-of-type {\n",
              "        vertical-align: middle;\n",
              "    }\n",
              "\n",
              "    .dataframe tbody tr th {\n",
              "        vertical-align: top;\n",
              "    }\n",
              "\n",
              "    .dataframe thead th {\n",
              "        text-align: right;\n",
              "    }\n",
              "</style>\n",
              "<table border=\"1\" class=\"dataframe\">\n",
              "  <thead>\n",
              "    <tr style=\"text-align: right;\">\n",
              "      <th></th>\n",
              "      <th>text_id</th>\n",
              "    </tr>\n",
              "  </thead>\n",
              "  <tbody>\n",
              "    <tr>\n",
              "      <th>0</th>\n",
              "      <td>text_id2</td>\n",
              "    </tr>\n",
              "    <tr>\n",
              "      <th>1</th>\n",
              "      <td>text_id1</td>\n",
              "    </tr>\n",
              "    <tr>\n",
              "      <th>2</th>\n",
              "      <td>text_id4</td>\n",
              "    </tr>\n",
              "    <tr>\n",
              "      <th>3</th>\n",
              "      <td>text_id3</td>\n",
              "    </tr>\n",
              "  </tbody>\n",
              "</table>\n",
              "</div>"
            ],
            "text/plain": [
              "    text_id\n",
              "0  text_id2\n",
              "1  text_id1\n",
              "2  text_id4\n",
              "3  text_id3"
            ]
          },
          "metadata": {
            "tags": []
          },
          "execution_count": 8
        }
      ]
    },
    {
      "cell_type": "code",
      "metadata": {
        "id": "Pk7YriSMdIRU"
      },
      "source": [
        "markup_answers.sort_values(by='text_id', inplace=True)  # сортируем в нужном порядке текста"
      ],
      "execution_count": 9,
      "outputs": []
    },
    {
      "cell_type": "code",
      "metadata": {
        "id": "4NoD9LlPY_8q"
      },
      "source": [
        "markup_answers['subject1'] = markup.groupby('text_id')['subject1'].agg(\n",
        "    lambda x: x.value_counts().index[0] \n",
        "    if x.value_counts().values.max() >= 2 else np.nan\n",
        ").values  # порядок соответсвует ответам, потому что изначальный датафрейм markup мы отсортировали по текстам"
      ],
      "execution_count": 10,
      "outputs": []
    },
    {
      "cell_type": "code",
      "metadata": {
        "id": "hAkoxKgPdzEt"
      },
      "source": [
        "markup_answers['subject2'] = markup.groupby('text_id')['subject2'].agg(\n",
        "    lambda x: x.value_counts().index[0] \n",
        "    if x.value_counts().values.max() >= 2 else np.nan\n",
        ").values"
      ],
      "execution_count": 11,
      "outputs": []
    },
    {
      "cell_type": "code",
      "metadata": {
        "id": "vWrrS4gMd0kh"
      },
      "source": [
        "markup_answers['subject3'] = markup.groupby('text_id')['subject3'].agg(\n",
        "    lambda x: x.value_counts().index[0] \n",
        "    if x.value_counts().values.max() >= 2 else np.nan\n",
        ").values"
      ],
      "execution_count": 12,
      "outputs": []
    },
    {
      "cell_type": "code",
      "metadata": {
        "id": "vO1a6FTBd2T-"
      },
      "source": [
        "markup_answers['subject4'] = markup.groupby('text_id')['subject4'].agg(\n",
        "    lambda x: x.value_counts().index[0] \n",
        "    if x.value_counts().values.max() >= 2 else np.nan\n",
        ").values"
      ],
      "execution_count": 13,
      "outputs": []
    },
    {
      "cell_type": "code",
      "metadata": {
        "colab": {
          "base_uri": "https://localhost:8080/",
          "height": 173
        },
        "id": "-l_P4eOJg7yE",
        "outputId": "b78f2e29-505a-4775-96e3-62ac5798f490"
      },
      "source": [
        "markup_answers  # получен ли консенсус по текстам и subject, если есть консенсус по всем subject, то не будет nan в строке по тексту"
      ],
      "execution_count": 14,
      "outputs": [
        {
          "output_type": "execute_result",
          "data": {
            "text/html": [
              "<div>\n",
              "<style scoped>\n",
              "    .dataframe tbody tr th:only-of-type {\n",
              "        vertical-align: middle;\n",
              "    }\n",
              "\n",
              "    .dataframe tbody tr th {\n",
              "        vertical-align: top;\n",
              "    }\n",
              "\n",
              "    .dataframe thead th {\n",
              "        text-align: right;\n",
              "    }\n",
              "</style>\n",
              "<table border=\"1\" class=\"dataframe\">\n",
              "  <thead>\n",
              "    <tr style=\"text-align: right;\">\n",
              "      <th></th>\n",
              "      <th>text_id</th>\n",
              "      <th>subject1</th>\n",
              "      <th>subject2</th>\n",
              "      <th>subject3</th>\n",
              "      <th>subject4</th>\n",
              "    </tr>\n",
              "  </thead>\n",
              "  <tbody>\n",
              "    <tr>\n",
              "      <th>1</th>\n",
              "      <td>text_id1</td>\n",
              "      <td>mq2</td>\n",
              "      <td>mq2</td>\n",
              "      <td>NaN</td>\n",
              "      <td>mq3</td>\n",
              "    </tr>\n",
              "    <tr>\n",
              "      <th>0</th>\n",
              "      <td>text_id2</td>\n",
              "      <td>NaN</td>\n",
              "      <td>mq3</td>\n",
              "      <td>mq1</td>\n",
              "      <td>mq1</td>\n",
              "    </tr>\n",
              "    <tr>\n",
              "      <th>3</th>\n",
              "      <td>text_id3</td>\n",
              "      <td>mq2</td>\n",
              "      <td>mq3</td>\n",
              "      <td>mq1</td>\n",
              "      <td>mq1</td>\n",
              "    </tr>\n",
              "    <tr>\n",
              "      <th>2</th>\n",
              "      <td>text_id4</td>\n",
              "      <td>NaN</td>\n",
              "      <td>mq3</td>\n",
              "      <td>mq1</td>\n",
              "      <td>mq1</td>\n",
              "    </tr>\n",
              "  </tbody>\n",
              "</table>\n",
              "</div>"
            ],
            "text/plain": [
              "    text_id subject1 subject2 subject3 subject4\n",
              "1  text_id1      mq2      mq2      NaN      mq3\n",
              "0  text_id2      NaN      mq3      mq1      mq1\n",
              "3  text_id3      mq2      mq3      mq1      mq1\n",
              "2  text_id4      NaN      mq3      mq1      mq1"
            ]
          },
          "metadata": {
            "tags": []
          },
          "execution_count": 14
        }
      ]
    },
    {
      "cell_type": "code",
      "metadata": {
        "id": "hmCXOOvVh4TO"
      },
      "source": [
        "consensus = markup_answers.dropna()"
      ],
      "execution_count": 15,
      "outputs": []
    },
    {
      "cell_type": "code",
      "metadata": {
        "colab": {
          "base_uri": "https://localhost:8080/",
          "height": 80
        },
        "id": "D60G20mliZUR",
        "outputId": "cc4bee90-eacb-4e5e-ba58-e98a2d615acb"
      },
      "source": [
        "consensus # те тексты по которым был консенсус по всем subject"
      ],
      "execution_count": 16,
      "outputs": [
        {
          "output_type": "execute_result",
          "data": {
            "text/html": [
              "<div>\n",
              "<style scoped>\n",
              "    .dataframe tbody tr th:only-of-type {\n",
              "        vertical-align: middle;\n",
              "    }\n",
              "\n",
              "    .dataframe tbody tr th {\n",
              "        vertical-align: top;\n",
              "    }\n",
              "\n",
              "    .dataframe thead th {\n",
              "        text-align: right;\n",
              "    }\n",
              "</style>\n",
              "<table border=\"1\" class=\"dataframe\">\n",
              "  <thead>\n",
              "    <tr style=\"text-align: right;\">\n",
              "      <th></th>\n",
              "      <th>text_id</th>\n",
              "      <th>subject1</th>\n",
              "      <th>subject2</th>\n",
              "      <th>subject3</th>\n",
              "      <th>subject4</th>\n",
              "    </tr>\n",
              "  </thead>\n",
              "  <tbody>\n",
              "    <tr>\n",
              "      <th>3</th>\n",
              "      <td>text_id3</td>\n",
              "      <td>mq2</td>\n",
              "      <td>mq3</td>\n",
              "      <td>mq1</td>\n",
              "      <td>mq1</td>\n",
              "    </tr>\n",
              "  </tbody>\n",
              "</table>\n",
              "</div>"
            ],
            "text/plain": [
              "    text_id subject1 subject2 subject3 subject4\n",
              "3  text_id3      mq2      mq3      mq1      mq1"
            ]
          },
          "metadata": {
            "tags": []
          },
          "execution_count": 16
        }
      ]
    },
    {
      "cell_type": "code",
      "metadata": {
        "id": "cp-ESVLkhN1b"
      },
      "source": [
        "consensus_valid = pd.concat([valid, consensus])"
      ],
      "execution_count": 17,
      "outputs": []
    },
    {
      "cell_type": "code",
      "metadata": {
        "id": "dRR8Rr0BiWM1"
      },
      "source": [
        "consensus_valid.reset_index(drop=True, inplace=True)"
      ],
      "execution_count": 18,
      "outputs": []
    },
    {
      "cell_type": "code",
      "metadata": {
        "colab": {
          "base_uri": "https://localhost:8080/",
          "height": 173
        },
        "id": "oKSinjr3irJL",
        "outputId": "d8bef4d0-a5fc-4007-96cc-f16d48d2d7e3"
      },
      "source": [
        "consensus_valid # датафрейм который состоит из valid и тех строк где получен консенсус"
      ],
      "execution_count": 19,
      "outputs": [
        {
          "output_type": "execute_result",
          "data": {
            "text/html": [
              "<div>\n",
              "<style scoped>\n",
              "    .dataframe tbody tr th:only-of-type {\n",
              "        vertical-align: middle;\n",
              "    }\n",
              "\n",
              "    .dataframe tbody tr th {\n",
              "        vertical-align: top;\n",
              "    }\n",
              "\n",
              "    .dataframe thead th {\n",
              "        text-align: right;\n",
              "    }\n",
              "</style>\n",
              "<table border=\"1\" class=\"dataframe\">\n",
              "  <thead>\n",
              "    <tr style=\"text-align: right;\">\n",
              "      <th></th>\n",
              "      <th>text_id</th>\n",
              "      <th>subject1</th>\n",
              "      <th>subject2</th>\n",
              "      <th>subject3</th>\n",
              "      <th>subject4</th>\n",
              "      <th>ans_set</th>\n",
              "    </tr>\n",
              "  </thead>\n",
              "  <tbody>\n",
              "    <tr>\n",
              "      <th>0</th>\n",
              "      <td>text_id1</td>\n",
              "      <td>mq3</td>\n",
              "      <td>mq2</td>\n",
              "      <td>mq2</td>\n",
              "      <td>mq3</td>\n",
              "      <td>NaN</td>\n",
              "    </tr>\n",
              "    <tr>\n",
              "      <th>1</th>\n",
              "      <td>text_id2</td>\n",
              "      <td>NaN</td>\n",
              "      <td>NaN</td>\n",
              "      <td>NaN</td>\n",
              "      <td>NaN</td>\n",
              "      <td>2</td>\n",
              "    </tr>\n",
              "    <tr>\n",
              "      <th>2</th>\n",
              "      <td>text_id4</td>\n",
              "      <td>NaN</td>\n",
              "      <td>NaN</td>\n",
              "      <td>NaN</td>\n",
              "      <td>NaN</td>\n",
              "      <td>1;3</td>\n",
              "    </tr>\n",
              "    <tr>\n",
              "      <th>3</th>\n",
              "      <td>text_id3</td>\n",
              "      <td>mq2</td>\n",
              "      <td>mq3</td>\n",
              "      <td>mq1</td>\n",
              "      <td>mq1</td>\n",
              "      <td>NaN</td>\n",
              "    </tr>\n",
              "  </tbody>\n",
              "</table>\n",
              "</div>"
            ],
            "text/plain": [
              "    text_id subject1 subject2 subject3 subject4 ans_set\n",
              "0  text_id1      mq3      mq2      mq2      mq3     NaN\n",
              "1  text_id2      NaN      NaN      NaN      NaN       2\n",
              "2  text_id4      NaN      NaN      NaN      NaN     1;3\n",
              "3  text_id3      mq2      mq3      mq1      mq1     NaN"
            ]
          },
          "metadata": {
            "tags": []
          },
          "execution_count": 19
        }
      ]
    },
    {
      "cell_type": "code",
      "metadata": {
        "id": "sNt4pFdLiuqL"
      },
      "source": [
        "final = markup.merge(consensus_valid, how='left', on='text_id', suffixes=['_mark', '_valid']) "
      ],
      "execution_count": 20,
      "outputs": []
    },
    {
      "cell_type": "code",
      "metadata": {
        "id": "TcYJeb01kjjS"
      },
      "source": [
        "# проверка на то указал ли валидатор несколько значений или нет: если несколько взять меньший\n",
        "final['ans_set_valid'] = np.where(\n",
        "    len(final['ans_set_valid']) > 1,  # если больше 1 значения\n",
        "    final['ans_set_valid'].astype(str).apply(lambda x: x.split(';')[0]),  # вытащим первый номер\n",
        "    final['ans_set_valid']  # оставим также\n",
        ")"
      ],
      "execution_count": 21,
      "outputs": []
    },
    {
      "cell_type": "code",
      "metadata": {
        "colab": {
          "base_uri": "https://localhost:8080/",
          "height": 645
        },
        "id": "_ZjUBBRWknz-",
        "outputId": "bbd7508b-368c-4061-e09d-52a730bbd9bf"
      },
      "source": [
        "final"
      ],
      "execution_count": 23,
      "outputs": [
        {
          "output_type": "execute_result",
          "data": {
            "text/html": [
              "<div>\n",
              "<style scoped>\n",
              "    .dataframe tbody tr th:only-of-type {\n",
              "        vertical-align: middle;\n",
              "    }\n",
              "\n",
              "    .dataframe tbody tr th {\n",
              "        vertical-align: top;\n",
              "    }\n",
              "\n",
              "    .dataframe thead th {\n",
              "        text-align: right;\n",
              "    }\n",
              "</style>\n",
              "<table border=\"1\" class=\"dataframe\">\n",
              "  <thead>\n",
              "    <tr style=\"text-align: right;\">\n",
              "      <th></th>\n",
              "      <th>text_id</th>\n",
              "      <th>markuper</th>\n",
              "      <th>markup_dt</th>\n",
              "      <th>subject1_mark</th>\n",
              "      <th>subject2_mark</th>\n",
              "      <th>subject3_mark</th>\n",
              "      <th>subject4_mark</th>\n",
              "      <th>ans_set_mark</th>\n",
              "      <th>subject1_valid</th>\n",
              "      <th>subject2_valid</th>\n",
              "      <th>subject3_valid</th>\n",
              "      <th>subject4_valid</th>\n",
              "      <th>ans_set_valid</th>\n",
              "    </tr>\n",
              "  </thead>\n",
              "  <tbody>\n",
              "    <tr>\n",
              "      <th>0</th>\n",
              "      <td>text_id1</td>\n",
              "      <td>markuper1</td>\n",
              "      <td>2021-06-01 12:00:01</td>\n",
              "      <td>mq1</td>\n",
              "      <td>mq2</td>\n",
              "      <td>mq1</td>\n",
              "      <td>mq3</td>\n",
              "      <td>1</td>\n",
              "      <td>mq3</td>\n",
              "      <td>mq2</td>\n",
              "      <td>mq2</td>\n",
              "      <td>mq3</td>\n",
              "      <td>nan</td>\n",
              "    </tr>\n",
              "    <tr>\n",
              "      <th>1</th>\n",
              "      <td>text_id1</td>\n",
              "      <td>markuper3</td>\n",
              "      <td>2021-06-01 12:00:12</td>\n",
              "      <td>mq2</td>\n",
              "      <td>mq2</td>\n",
              "      <td>mq3</td>\n",
              "      <td>mq1</td>\n",
              "      <td>2</td>\n",
              "      <td>mq3</td>\n",
              "      <td>mq2</td>\n",
              "      <td>mq2</td>\n",
              "      <td>mq3</td>\n",
              "      <td>nan</td>\n",
              "    </tr>\n",
              "    <tr>\n",
              "      <th>2</th>\n",
              "      <td>text_id1</td>\n",
              "      <td>markuper2</td>\n",
              "      <td>2021-06-01 12:00:33</td>\n",
              "      <td>mq2</td>\n",
              "      <td>mq2</td>\n",
              "      <td>mq2</td>\n",
              "      <td>mq3</td>\n",
              "      <td>3</td>\n",
              "      <td>mq3</td>\n",
              "      <td>mq2</td>\n",
              "      <td>mq2</td>\n",
              "      <td>mq3</td>\n",
              "      <td>nan</td>\n",
              "    </tr>\n",
              "    <tr>\n",
              "      <th>3</th>\n",
              "      <td>text_id2</td>\n",
              "      <td>markuper3</td>\n",
              "      <td>2021-06-01 12:00:04</td>\n",
              "      <td>mq3</td>\n",
              "      <td>mq3</td>\n",
              "      <td>mq1</td>\n",
              "      <td>mq1</td>\n",
              "      <td>1</td>\n",
              "      <td>NaN</td>\n",
              "      <td>NaN</td>\n",
              "      <td>NaN</td>\n",
              "      <td>NaN</td>\n",
              "      <td>2</td>\n",
              "    </tr>\n",
              "    <tr>\n",
              "      <th>4</th>\n",
              "      <td>text_id2</td>\n",
              "      <td>markuper2</td>\n",
              "      <td>2021-06-01 12:00:05</td>\n",
              "      <td>mq2</td>\n",
              "      <td>mq3</td>\n",
              "      <td>mq1</td>\n",
              "      <td>mq3</td>\n",
              "      <td>2</td>\n",
              "      <td>NaN</td>\n",
              "      <td>NaN</td>\n",
              "      <td>NaN</td>\n",
              "      <td>NaN</td>\n",
              "      <td>2</td>\n",
              "    </tr>\n",
              "    <tr>\n",
              "      <th>5</th>\n",
              "      <td>text_id2</td>\n",
              "      <td>markuper1</td>\n",
              "      <td>2021-06-01 12:00:06</td>\n",
              "      <td>mq1</td>\n",
              "      <td>mq2</td>\n",
              "      <td>mq1</td>\n",
              "      <td>mq1</td>\n",
              "      <td>3</td>\n",
              "      <td>NaN</td>\n",
              "      <td>NaN</td>\n",
              "      <td>NaN</td>\n",
              "      <td>NaN</td>\n",
              "      <td>2</td>\n",
              "    </tr>\n",
              "    <tr>\n",
              "      <th>6</th>\n",
              "      <td>text_id3</td>\n",
              "      <td>markuper2</td>\n",
              "      <td>2021-06-01 12:00:07</td>\n",
              "      <td>mq2</td>\n",
              "      <td>mq3</td>\n",
              "      <td>mq1</td>\n",
              "      <td>mq3</td>\n",
              "      <td>1</td>\n",
              "      <td>mq2</td>\n",
              "      <td>mq3</td>\n",
              "      <td>mq1</td>\n",
              "      <td>mq1</td>\n",
              "      <td>nan</td>\n",
              "    </tr>\n",
              "    <tr>\n",
              "      <th>7</th>\n",
              "      <td>text_id3</td>\n",
              "      <td>markuper1</td>\n",
              "      <td>2021-06-01 12:00:08</td>\n",
              "      <td>mq2</td>\n",
              "      <td>mq2</td>\n",
              "      <td>mq1</td>\n",
              "      <td>mq1</td>\n",
              "      <td>2</td>\n",
              "      <td>mq2</td>\n",
              "      <td>mq3</td>\n",
              "      <td>mq1</td>\n",
              "      <td>mq1</td>\n",
              "      <td>nan</td>\n",
              "    </tr>\n",
              "    <tr>\n",
              "      <th>8</th>\n",
              "      <td>text_id3</td>\n",
              "      <td>markuper3</td>\n",
              "      <td>2021-06-01 12:00:09</td>\n",
              "      <td>mq3</td>\n",
              "      <td>mq3</td>\n",
              "      <td>mq1</td>\n",
              "      <td>mq1</td>\n",
              "      <td>3</td>\n",
              "      <td>mq2</td>\n",
              "      <td>mq3</td>\n",
              "      <td>mq1</td>\n",
              "      <td>mq1</td>\n",
              "      <td>nan</td>\n",
              "    </tr>\n",
              "    <tr>\n",
              "      <th>9</th>\n",
              "      <td>text_id4</td>\n",
              "      <td>markuper2</td>\n",
              "      <td>2021-06-01 12:00:10</td>\n",
              "      <td>mq2</td>\n",
              "      <td>mq3</td>\n",
              "      <td>mq1</td>\n",
              "      <td>mq3</td>\n",
              "      <td>1</td>\n",
              "      <td>NaN</td>\n",
              "      <td>NaN</td>\n",
              "      <td>NaN</td>\n",
              "      <td>NaN</td>\n",
              "      <td>1</td>\n",
              "    </tr>\n",
              "    <tr>\n",
              "      <th>10</th>\n",
              "      <td>text_id4</td>\n",
              "      <td>markuper3</td>\n",
              "      <td>2021-06-01 12:00:11</td>\n",
              "      <td>mq3</td>\n",
              "      <td>mq3</td>\n",
              "      <td>mq1</td>\n",
              "      <td>mq1</td>\n",
              "      <td>2</td>\n",
              "      <td>NaN</td>\n",
              "      <td>NaN</td>\n",
              "      <td>NaN</td>\n",
              "      <td>NaN</td>\n",
              "      <td>1</td>\n",
              "    </tr>\n",
              "    <tr>\n",
              "      <th>11</th>\n",
              "      <td>text_id4</td>\n",
              "      <td>markuper1</td>\n",
              "      <td>2021-06-01 12:00:12</td>\n",
              "      <td>mq1</td>\n",
              "      <td>mq2</td>\n",
              "      <td>mq1</td>\n",
              "      <td>mq1</td>\n",
              "      <td>3</td>\n",
              "      <td>NaN</td>\n",
              "      <td>NaN</td>\n",
              "      <td>NaN</td>\n",
              "      <td>NaN</td>\n",
              "      <td>1</td>\n",
              "    </tr>\n",
              "  </tbody>\n",
              "</table>\n",
              "</div>"
            ],
            "text/plain": [
              "     text_id   markuper  ... subject4_valid ans_set_valid\n",
              "0   text_id1  markuper1  ...            mq3           nan\n",
              "1   text_id1  markuper3  ...            mq3           nan\n",
              "2   text_id1  markuper2  ...            mq3           nan\n",
              "3   text_id2  markuper3  ...            NaN             2\n",
              "4   text_id2  markuper2  ...            NaN             2\n",
              "5   text_id2  markuper1  ...            NaN             2\n",
              "6   text_id3  markuper2  ...            mq1           nan\n",
              "7   text_id3  markuper1  ...            mq1           nan\n",
              "8   text_id3  markuper3  ...            mq1           nan\n",
              "9   text_id4  markuper2  ...            NaN             1\n",
              "10  text_id4  markuper3  ...            NaN             1\n",
              "11  text_id4  markuper1  ...            NaN             1\n",
              "\n",
              "[12 rows x 13 columns]"
            ]
          },
          "metadata": {
            "tags": []
          },
          "execution_count": 23
        }
      ]
    },
    {
      "cell_type": "code",
      "metadata": {
        "id": "xqKP-cCEkD9l"
      },
      "source": [
        "final['ans_set_mark'] = final['ans_set_mark'].astype(float)\n",
        "final['ans_set_valid'] = final['ans_set_valid'].astype(float)"
      ],
      "execution_count": 24,
      "outputs": []
    },
    {
      "cell_type": "code",
      "metadata": {
        "id": "rP6S8x1tjGi3"
      },
      "source": [
        "# получаем таким образом итоговые значение по каждому тексту, некоторые будут с nan но их удалим позже\n",
        "final['subject1_final'] = np.where(\n",
        "    final['ans_set_valid'] == final['ans_set_mark'], \n",
        "    final['subject1_mark'],\n",
        "    final['subject1_valid']\n",
        ")\n",
        "final['subject2_final'] = np.where(\n",
        "    final['ans_set_valid'] == final['ans_set_mark'], \n",
        "    final['subject2_mark'],\n",
        "    final['subject2_valid']\n",
        ")\n",
        "final['subject3_final'] = np.where(\n",
        "    final['ans_set_valid'] == final['ans_set_mark'], \n",
        "    final['subject3_mark'],\n",
        "    final['subject3_valid']\n",
        ")\n",
        "final['subject4_final'] = np.where(\n",
        "    final['ans_set_valid'] == final['ans_set_mark'], \n",
        "    final['subject4_mark'],\n",
        "    final['subject4_valid']\n",
        ")"
      ],
      "execution_count": 25,
      "outputs": []
    },
    {
      "cell_type": "code",
      "metadata": {
        "id": "wdqELPIijaTv"
      },
      "source": [
        "# вот тут очищаем данные\n",
        "result_answers = final.dropna(\n",
        "    subset=['text_id', 'subject1_final', 'subject2_final', 'subject3_final', 'subject4_final']\n",
        "    ).drop_duplicates(subset=['text_id']\n",
        "                      )[['text_id', 'subject1_final', 'subject2_final', 'subject3_final', 'subject4_final']]"
      ],
      "execution_count": 26,
      "outputs": []
    },
    {
      "cell_type": "markdown",
      "metadata": {
        "id": "Z70eedh5nK51"
      },
      "source": [
        "## Финальная витрина правильных ответов"
      ]
    },
    {
      "cell_type": "code",
      "metadata": {
        "id": "TPPzYMS0nPvA",
        "colab": {
          "base_uri": "https://localhost:8080/",
          "height": 173
        },
        "outputId": "78aba180-efdc-4a2e-9908-20aa7a88d276"
      },
      "source": [
        "result_answers"
      ],
      "execution_count": 27,
      "outputs": [
        {
          "output_type": "execute_result",
          "data": {
            "text/html": [
              "<div>\n",
              "<style scoped>\n",
              "    .dataframe tbody tr th:only-of-type {\n",
              "        vertical-align: middle;\n",
              "    }\n",
              "\n",
              "    .dataframe tbody tr th {\n",
              "        vertical-align: top;\n",
              "    }\n",
              "\n",
              "    .dataframe thead th {\n",
              "        text-align: right;\n",
              "    }\n",
              "</style>\n",
              "<table border=\"1\" class=\"dataframe\">\n",
              "  <thead>\n",
              "    <tr style=\"text-align: right;\">\n",
              "      <th></th>\n",
              "      <th>text_id</th>\n",
              "      <th>subject1_final</th>\n",
              "      <th>subject2_final</th>\n",
              "      <th>subject3_final</th>\n",
              "      <th>subject4_final</th>\n",
              "    </tr>\n",
              "  </thead>\n",
              "  <tbody>\n",
              "    <tr>\n",
              "      <th>0</th>\n",
              "      <td>text_id1</td>\n",
              "      <td>mq3</td>\n",
              "      <td>mq2</td>\n",
              "      <td>mq2</td>\n",
              "      <td>mq3</td>\n",
              "    </tr>\n",
              "    <tr>\n",
              "      <th>4</th>\n",
              "      <td>text_id2</td>\n",
              "      <td>mq2</td>\n",
              "      <td>mq3</td>\n",
              "      <td>mq1</td>\n",
              "      <td>mq3</td>\n",
              "    </tr>\n",
              "    <tr>\n",
              "      <th>6</th>\n",
              "      <td>text_id3</td>\n",
              "      <td>mq2</td>\n",
              "      <td>mq3</td>\n",
              "      <td>mq1</td>\n",
              "      <td>mq1</td>\n",
              "    </tr>\n",
              "    <tr>\n",
              "      <th>9</th>\n",
              "      <td>text_id4</td>\n",
              "      <td>mq2</td>\n",
              "      <td>mq3</td>\n",
              "      <td>mq1</td>\n",
              "      <td>mq3</td>\n",
              "    </tr>\n",
              "  </tbody>\n",
              "</table>\n",
              "</div>"
            ],
            "text/plain": [
              "    text_id subject1_final subject2_final subject3_final subject4_final\n",
              "0  text_id1            mq3            mq2            mq2            mq3\n",
              "4  text_id2            mq2            mq3            mq1            mq3\n",
              "6  text_id3            mq2            mq3            mq1            mq1\n",
              "9  text_id4            mq2            mq3            mq1            mq3"
            ]
          },
          "metadata": {
            "tags": []
          },
          "execution_count": 27
        }
      ]
    },
    {
      "cell_type": "markdown",
      "metadata": {
        "id": "QbnEdJoknQyF"
      },
      "source": [
        "# Решаем задачу №2 - считаем среднюю точность разметчиков"
      ]
    },
    {
      "cell_type": "code",
      "metadata": {
        "id": "v1lyme3XjFkb"
      },
      "source": [
        "quality = markup.merge(result_answers, how='inner', on='text_id') # соединиям данные и маркап, чтобы потом посчитать качество разметчиков"
      ],
      "execution_count": 28,
      "outputs": []
    },
    {
      "cell_type": "code",
      "metadata": {
        "id": "BFjutYE4mQDD"
      },
      "source": [
        "# ставим один если совпал ответ маркапера и итогового значения после валидации и 0 если не совпали\n",
        "quality['subject1_right'] = np.where(quality['subject1'] == quality['subject1_final'], 1, 0)\n",
        "quality['subject2_right'] = np.where(quality['subject2'] == quality['subject2_final'], 1, 0)\n",
        "quality['subject3_right'] = np.where(quality['subject3'] == quality['subject3_final'], 1, 0)\n",
        "quality['subject4_right'] = np.where(quality['subject4'] == quality['subject4_final'], 1, 0)"
      ],
      "execution_count": 29,
      "outputs": []
    },
    {
      "cell_type": "code",
      "metadata": {
        "id": "BwR3rbknnlfk"
      },
      "source": [
        "# делим на 4 чтобы получить процент правильных ответов\n",
        "quality['score'] = (\n",
        "    (quality['subject1_right'] + quality['subject2_right'] + quality['subject3_right'] + quality['subject4_right']) / 4\n",
        ")"
      ],
      "execution_count": 30,
      "outputs": []
    },
    {
      "cell_type": "code",
      "metadata": {
        "id": "_NGyGlfSmfJo"
      },
      "source": [
        "result = quality.merge(valid[['text_id', 'ans_set']], \n",
        "                       how='left', \n",
        "                       on='text_id', \n",
        "                       suffixes=['_mark', '_valid'])"
      ],
      "execution_count": 31,
      "outputs": []
    },
    {
      "cell_type": "code",
      "metadata": {
        "id": "FdJygJy1rw2g"
      },
      "source": [
        "result['ans_set_mark'] = result['ans_set_mark'].astype(str)"
      ],
      "execution_count": 32,
      "outputs": []
    },
    {
      "cell_type": "code",
      "metadata": {
        "id": "tEtmvgZ1r0o8"
      },
      "source": [
        "result['ans_set_valid'].fillna('0', inplace=True)"
      ],
      "execution_count": 33,
      "outputs": []
    },
    {
      "cell_type": "code",
      "metadata": {
        "id": "5fEm4sBTso35"
      },
      "source": [
        "# проверяем выбирал ли валидатор значения валидатор как правильные у более чем 1 разметчика, если выбрал, то ставим 1 в графу эффективность\n",
        "result['score'] = np.where(\n",
        "    result.apply(lambda x: x.ans_set_mark in x.ans_set_valid, axis=1),  # если ответ разметчика валидатор посчитал верным, то ставим 1\n",
        "    1, result['score']\n",
        ")"
      ],
      "execution_count": 34,
      "outputs": []
    },
    {
      "cell_type": "code",
      "metadata": {
        "id": "0LErwtXVrwBk"
      },
      "source": [
        "markupers_df = result.groupby('markuper')['score'].mean().reset_index() # итоговые значения эффективности разметк для markuper"
      ],
      "execution_count": 35,
      "outputs": []
    },
    {
      "cell_type": "markdown",
      "metadata": {
        "id": "z2t1t90HnqWg"
      },
      "source": [
        "## Финальный ответ по задаче №2"
      ]
    },
    {
      "cell_type": "code",
      "metadata": {
        "id": "1yFSxtDIns9Q",
        "colab": {
          "base_uri": "https://localhost:8080/",
          "height": 142
        },
        "outputId": "c0c46e72-f16f-420d-fd4c-fcef8743c03c"
      },
      "source": [
        "markupers_df"
      ],
      "execution_count": 36,
      "outputs": [
        {
          "output_type": "execute_result",
          "data": {
            "text/html": [
              "<div>\n",
              "<style scoped>\n",
              "    .dataframe tbody tr th:only-of-type {\n",
              "        vertical-align: middle;\n",
              "    }\n",
              "\n",
              "    .dataframe tbody tr th {\n",
              "        vertical-align: top;\n",
              "    }\n",
              "\n",
              "    .dataframe thead th {\n",
              "        text-align: right;\n",
              "    }\n",
              "</style>\n",
              "<table border=\"1\" class=\"dataframe\">\n",
              "  <thead>\n",
              "    <tr style=\"text-align: right;\">\n",
              "      <th></th>\n",
              "      <th>markuper</th>\n",
              "      <th>score</th>\n",
              "    </tr>\n",
              "  </thead>\n",
              "  <tbody>\n",
              "    <tr>\n",
              "      <th>0</th>\n",
              "      <td>markuper1</td>\n",
              "      <td>0.625</td>\n",
              "    </tr>\n",
              "    <tr>\n",
              "      <th>1</th>\n",
              "      <td>markuper2</td>\n",
              "      <td>0.875</td>\n",
              "    </tr>\n",
              "    <tr>\n",
              "      <th>2</th>\n",
              "      <td>markuper3</td>\n",
              "      <td>0.500</td>\n",
              "    </tr>\n",
              "  </tbody>\n",
              "</table>\n",
              "</div>"
            ],
            "text/plain": [
              "    markuper  score\n",
              "0  markuper1  0.625\n",
              "1  markuper2  0.875\n",
              "2  markuper3  0.500"
            ]
          },
          "metadata": {
            "tags": []
          },
          "execution_count": 36
        }
      ]
    },
    {
      "cell_type": "code",
      "metadata": {
        "id": "aWMbmLBws2M4"
      },
      "source": [
        "markupers_df.to_csv('markupers_quality.csv', index=False)"
      ],
      "execution_count": 37,
      "outputs": []
    }
  ]
}