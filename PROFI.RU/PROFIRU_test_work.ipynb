{
  "nbformat": 4,
  "nbformat_minor": 0,
  "metadata": {
    "colab": {
      "name": "PROFIRU_test_work.ipynb",
      "provenance": []
    },
    "kernelspec": {
      "name": "python3",
      "display_name": "Python 3"
    },
    "language_info": {
      "name": "python"
    }
  },
  "cells": [
    {
      "cell_type": "markdown",
      "metadata": {
        "id": "rPDUhUzLoPN-"
      },
      "source": [
        "Проведя биномиальное распределение вероятностей, понимаем с какой точностью можно сказать, монетка не \"правильная\". Для этого воспользовался функцией из SciPy ***binom_test***. \n",
        "\n",
        "\n",
        "---\n",
        "\n",
        "\n",
        "Получив результаты посмотрел зависимость, и даже если считать руками, то +- тоже можно получить, взял только значения кратные 20, чтобы разница была ровно в 10%.\n",
        "\n",
        "\n",
        "---\n",
        "\n",
        "Далее уже в зависимости от нужной точности ***accuracy***, я выбрал точнось 0,1% (accuracy = 0.001) получаем результат."
      ]
    },
    {
      "cell_type": "code",
      "metadata": {
        "colab": {
          "base_uri": "https://localhost:8080/",
          "height": 299
        },
        "id": "cY40m78VmzIV",
        "outputId": "34f69bbd-f8b1-4f2c-cc5e-5a0353533de3"
      },
      "source": [
        "from scipy.stats import binom_test as b_test\n",
        "import matplotlib.pyplot as plt\n",
        "Value = []\n",
        "accuracy = 0.001\n",
        "Number = [i for i in range(20,1500,20)]\n",
        "Flag = True\n",
        "\n",
        "for num in Number:\n",
        "  Value.append(b_test(round(0.55*num),num,p = 0.5))\n",
        "  if Value[-1] < accuracy and Flag:\n",
        "    print('ans = ',num)\n",
        "    Flag = False\n",
        "\n",
        "plt.plot(Number,Value)"
      ],
      "execution_count": 10,
      "outputs": [
        {
          "output_type": "stream",
          "text": [
            "ans =  1120\n"
          ],
          "name": "stdout"
        },
        {
          "output_type": "execute_result",
          "data": {
            "text/plain": [
              "[<matplotlib.lines.Line2D at 0x7f9bf9405b10>]"
            ]
          },
          "metadata": {
            "tags": []
          },
          "execution_count": 10
        },
        {
          "output_type": "display_data",
          "data": {
            "image/png": "[encoded data removed]",
            "text/plain": [
              "<Figure size 432x288 with 1 Axes>"
            ]
          },
          "metadata": {
            "tags": [],
            "needs_background": "light"
          }
        }
      ]
    },
    {
      "cell_type": "markdown",
      "metadata": {
        "id": "vzt85YSWqPve"
      },
      "source": [
        "# ***Что нам говорит результат?***\n",
        "\n",
        "Что при n = 1120 можно сказать, что монета не \"правильная\". И наш ответ будет верным на 99,9%.\n"
      ]
    }
  ]
}