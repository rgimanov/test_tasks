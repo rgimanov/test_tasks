{
  "nbformat": 4,
  "nbformat_minor": 0,
  "metadata": {
    "colab": {
      "name": "testIVI.ipynb",
      "provenance": [],
      "collapsed_sections": []
    },
    "kernelspec": {
      "name": "python3",
      "display_name": "Python 3"
    },
    "language_info": {
      "name": "python"
    }
  },
  "cells": [
    {
      "cell_type": "markdown",
      "metadata": {
        "id": "mpVKnP0EBIiJ"
      },
      "source": [
        "# ***TASK #1***"
      ]
    },
    {
      "cell_type": "code",
      "metadata": {
        "id": "cpMFP4_x8VmJ"
      },
      "source": [
        "import psycopg2\n",
        "conn = psycopg2.connect(dbname='database', user='db_user', \n",
        "                        password='mypassword', host='localhost')\n",
        "cursor = conn.cursor()\n",
        "text_sql = 'with t1 as ('+\n",
        "'select * '+\n",
        "'from сontent_watch '+\n",
        "'inner join contents '+\n",
        "'on сontent_watch.content_id = contents.content_id)'+\n",
        "', t2 as (select distinct '+\n",
        "\t'extract(month from show_date) as months ,'+\n",
        "\t'extract(year from show_date) as years,'+\n",
        "\t'title,'+\n",
        "\t'user_id '+\n",
        "'from t1)'+\n",
        "',t3 as('+\n",
        "'select '+\n",
        "\t'months,years,title,'+\n",
        "\t'count(*) as cnt_shows' +\n",
        "\t'from t2 '+\n",
        "'group by months,years,title)'+\n",
        "',t4 as ('+\n",
        "'select '+\n",
        "\t'months,'+\n",
        "\t'years,'+\n",
        "\t'title,'+\n",
        "\t'cnt_shows,'+\n",
        "'\trow_number() over(partition by months,years order by cnt_shows desc) as rn'+\n",
        "'from t3)'+\n",
        "', t5 as ('+\n",
        "'select * '+\n",
        "'from t4 '+\n",
        "'where rn <= 10)'+\n",
        "',t6 as ('+\n",
        "'select '+\n",
        "'\t*,'+\n",
        "\t'case when months =1 then 12 else months -1 end as month_before,'+\n",
        "\t'case when months = 1 then (years -1) else years end as years_before'+\n",
        "'from t5)'+\n",
        "',t7 as ('+\n",
        "\t'select '+\n",
        "\t'g1.title, g1.cnt_shows, g1.rn, g1.months, g1.years,'+\n",
        "\t'case when g2.cnt_shows is null then 0 else g2.cnt_shows end as cnt_show_before '+\n",
        "  'from t6 g1 '+\n",
        "'left join t6 g2 '+\n",
        "'on g1.month_before = g2.months and g1.years_before = g2.years '+\n",
        "\t'and g1.title = g2.title) '+\n",
        "'select make_date(cast(years as int), cast(months as int), 1),rn,title,cnt_shows, (cnt_shows-cnt_show_before)/cnt_shows*100 as persentage '+\n",
        "'from t7'+\n",
        "'order by rn'\n",
        "cursor.execute(text_sql)\n",
        "records = cursor.fetchall()\n",
        "cursor.close()\n",
        "conn.close()"
      ],
      "execution_count": null,
      "outputs": []
    },
    {
      "cell_type": "markdown",
      "metadata": {
        "id": "UN0QY5kntabk"
      },
      "source": [
        "# ***TASK #2***"
      ]
    },
    {
      "cell_type": "markdown",
      "metadata": {
        "id": "GeQd2bkzu5_4"
      },
      "source": [
        "Во втором задании самое адекватное, что смог придумать, это насколько полно посмотрел пользователь тот или иной контент. Выражал этот параметр в процентах, соотвественно в итоговой таблице получил столбец **avg_per** , который показывает, сколько в среднем человек просматривает данный контент в процентном соотношении.\n",
        "\n",
        "\n",
        "> Второй параметр, который по-моему мнению несет довольно-таки качественную информацию - это сколько людей начинали смотреть данный контент. Так как на  ivi.ru есть как платный доступ к фильмам, так и бесплатный(но в нём присутсвтует реклама, именно от неё зависит прибыль), то было бы логично предположить, наиболее выгодный тот вариант, где рекламу просмотрели наибольшее кол-во раз, а это напрямую зависит от данного параметра(который я получаю вторым **cnt_watch**.Ну и потом я решил их объединить в один параметр **itog** так как предположить какой параметр более значимый, а какой --  менее мы не можем => не можем дать им веса, я решил просто их умножить. \n",
        "---\n",
        "\n",
        "\n",
        "\n",
        "> Из сущностей я бы добавил, это сущность, которая показывала бы, есть в контенте, при данном просмотре реклама или нет, а если есть, то указать через какой промежуток времени появляется(имею ввиду средний показатель), исходя из этих данных, можно было бы более точно указать веса для создания переменной ***itog*** \n",
        "\n",
        "\n",
        "\n",
        "\n",
        "\n"
      ]
    },
    {
      "cell_type": "code",
      "metadata": {
        "id": "JW9NrPm3tZnG"
      },
      "source": [
        "import psycopg2\n",
        "conn = psycopg2.connect(dbname='database', user='db_user', \n",
        "                        password='mypassword', host='localhost')\n",
        "cursor = conn.cursor()\n",
        "\n",
        "text_sql = 'with t1 as('+\n",
        "'select' + \n",
        "\t'cw.*,c.*, ' +\n",
        "'\textract(month from show_date) as months, '+\n",
        "'\textract(year from show_date) as years, '+\n",
        "'\tcoalesce(c.compilation_title, c.title) as title_2 '+\n",
        "'from content_watch cw' '+\n",
        "'inner join content c '+\n",
        "'on c.id = cw.content_id) '+\n",
        "', t2 as(select '+\n",
        "'\ttitle_2, '+\n",
        "'\ttitle, '+\n",
        "'\tmonths, '+\n",
        "'\tyears, '+\n",
        "'\tuser_id, '+\n",
        "'\tshow_duration * 100 / duration as persentage '+\n",
        "'from t1) '+\n",
        "', t3 as (select \t '+\n",
        "'\ttitle_2, '+\n",
        "'\ttitle, months,years, avg(persentage) as per_2 '+\n",
        "'from t2 '+\n",
        "'group by title_2, title, months, years) '+\n",
        "', t4 as ( v\n",
        "'\tselect title_2, months,years, avg(per_2)  '+\n",
        "'\tfrom t3 '+\n",
        "'\tgroup by title_2,  months, years) '+\n",
        "', t5 as ( '+\n",
        "'\tselect  '+\n",
        "'\ttitle_2, '+\n",
        "'\tmonths, '+\n",
        "'\tyears, '+\n",
        "'\tcount(*) as cnt  '+\n",
        "'from t1 '+\n",
        "'group by title_2, '+\n",
        "'\tmonths, '+\n",
        "'\tyears) '+\n",
        "'select t4.title_2 as name_of_serial, '+\n",
        "'\tt4.months,t4.years,round(t4.avg,2) as avg_per, '+\n",
        "'\tt5.cnt as cnt_watch, '+\n",
        "'\tt5.cnt * round(t4.avg,2) as itog '+\n",
        "'from t4 '+\n",
        "'inner join t5 '+\n",
        "'on t4.title_2 = t5.title_2 and t4.months = t5.months and t4.years = t5.years'\n",
        "\n",
        "cursor.execute(text_sql)\n",
        "records = cursor.fetchall()\n",
        "cursor.close()\n",
        "conn.close()"
      ],
      "execution_count": null,
      "outputs": []
    },
    {
      "cell_type": "markdown",
      "metadata": {
        "id": "s4f5kEC8ufs1"
      },
      "source": [
        "**Честно, я не до конца разобрался, как совместить PostgreSQL и Jupiter Notebook, вычитал только такой способ, но есть все написанное в PostgreSQL**"
      ]
    },
    {
      "cell_type": "markdown",
      "metadata": {
        "id": "ubeCL0RNBPuP"
      },
      "source": [
        "# ***TASK #3***"
      ]
    },
    {
      "cell_type": "code",
      "metadata": {
        "id": "BX-4boVzk7U-"
      },
      "source": [
        "!pip install selenium\n",
        "!apt-get update \n",
        "!apt install chromium-chromedriver\n",
        "from selenium import webdriver\n",
        "chrome_options = webdriver.ChromeOptions()\n",
        "chrome_options.add_argument('--headless')\n",
        "chrome_options.add_argument('--no-sandbox')\n",
        "chrome_options.add_argument('--disable-dev-shm-usage')\n",
        "wd = webdriver.Chrome('chromedriver',chrome_options=chrome_options)\n",
        "driver =webdriver.Chrome('chromedriver',chrome_options=chrome_options)"
      ],
      "execution_count": null,
      "outputs": []
    },
    {
      "cell_type": "code",
      "metadata": {
        "id": "LwoXiRJKlJdB"
      },
      "source": [
        "wd.get('https://ekinobilet.fond-kino.ru/')\n",
        "driver.implicitly_wait(10)"
      ],
      "execution_count": 160,
      "outputs": []
    },
    {
      "cell_type": "code",
      "metadata": {
        "id": "MqR1-rk_Qasq"
      },
      "source": [
        "from selenium import webdriver\n",
        "from selenium.webdriver.common.keys import Keys\n",
        "from selenium.webdriver.common.by import By\n",
        "from selenium.webdriver.support.ui import WebDriverWait\n",
        "from selenium.webdriver.support import expected_conditions as EC\n"
      ],
      "execution_count": 161,
      "outputs": []
    },
    {
      "cell_type": "markdown",
      "metadata": {
        "id": "Xma9B6QsqVvD"
      },
      "source": [
        "Тут я столкнулся с проблемой, так как статистика нужна за последние 3 месяца, то нужно выбирать из выпадающего списка select, но просто через Select у Selenium сделать это не получается, так как option объекты скрыты. Пытался разобраться, так, к сожалению и не получилось :("
      ]
    },
    {
      "cell_type": "code",
      "metadata": {
        "id": "XLV9QBx9rJvm"
      },
      "source": [
        "from selenium.webdriver.support.ui import Select"
      ],
      "execution_count": null,
      "outputs": []
    },
    {
      "cell_type": "code",
      "metadata": {
        "colab": {
          "base_uri": "https://localhost:8080/"
        },
        "id": "15YPRBS5CfKD",
        "outputId": "c22a9719-cf44-4538-a005-eab23d65a0d8"
      },
      "source": [
        "wd.find_element_by_xpath(\"/html/body/div[@id='hid']/div[@id='main-wrap']/div[@id='main-wrap-inner']/div[@class='wrap']/main[@class='main']/div[@class='two-col-right-side index-page']/div[@class='ts-right']/div[@class='widget-box'][1]/div[@class='wb-body js-tabs']/div[@class='stat-list']/div[@class='sl-date']/div[@id='js-statistic-range-index']/select[@class='js-select sp-select-type']\")"
      ],
      "execution_count": 162,
      "outputs": [
        {
          "output_type": "execute_result",
          "data": {
            "text/plain": [
              "<select class=\"js-select sp-select-type\" style=\"display: none;\">\n",
              "\n",
              "                    <option value=\"day\">День</option>\n",
              "                            <option value=\"weekend\">Уикенд</option>\n",
              "                            <option value=\"week\">Неделя</option>\n",
              "                            <option value=\"month\">Месяц</option>\n",
              "                            <option value=\"year\">Год</option>\n",
              "        \n",
              "    </select>"
            ]
          },
          "metadata": {
            "tags": []
          },
          "execution_count": 162
        }
      ]
    },
    {
      "cell_type": "markdown",
      "metadata": {
        "id": "n3MZW4gXq0iK"
      },
      "source": [
        "при парсинге с помощью Selenium получить их можно, но выбрать не получается, вот пример:"
      ]
    },
    {
      "cell_type": "code",
      "metadata": {
        "id": "lRXMYSULTn9z"
      },
      "source": [
        "select = Select(wd.find_element_by_xpath(\"/html/body/div[@id='hid']/div[@id='main-wrap']/div[@id='main-wrap-inner']/div[@class='wrap']/main[@class='main']/div[@class='two-col-right-side index-page']/div[@class='ts-right']/div[@class='widget-box'][1]/div[@class='wb-body js-tabs']/div[@class='stat-list']/div[@class='sl-date']/div[@id='js-statistic-range-index']/select[@class='js-select sp-select-type']\"))\n",
        "select.select_by_visible_text('Месяц')"
      ],
      "execution_count": null,
      "outputs": []
    },
    {
      "cell_type": "markdown",
      "metadata": {
        "id": "Jh7_rWXDrRlA"
      },
      "source": [
        "В принципе в этом и была загвосдка, так как остальные данные парсятся легко, и сам EDA, а так же визуализация уже не столь сложная задача\n",
        "\n",
        "\n",
        "---\n",
        "Пробовал и кликать на блок, с которым связан select, но так и не получилось, вот пример:"
      ]
    },
    {
      "cell_type": "code",
      "metadata": {
        "colab": {
          "base_uri": "https://localhost:8080/"
        },
        "id": "nuV7PXKLGNn4",
        "outputId": "7ca1cdbe-1102-442c-e3e5-45da321845ec"
      },
      "source": [
        "wd.find_element_by_xpath(\"//div[@class='sl-date']/div[@id='js-statistic-range-index']/span[@class='js-custom-select-4-box']/span[@class='js-custom-select']/span[@class='js-custom-select-value']\").click()\n",
        "time.sleep(5)\n",
        "select = Select(wd.find_element_by_xpath(\"//div[@class='sl-date']/div[@id='js-statistic-range-index']/select[@class='js-select sp-select-type']\"))\n",
        "select.all_selected_options"
      ],
      "execution_count": 135,
      "outputs": [
        {
          "output_type": "execute_result",
          "data": {
            "text/plain": [
              "[<option value=\"day\">День</option>]"
            ]
          },
          "metadata": {
            "tags": []
          },
          "execution_count": 135
        }
      ]
    },
    {
      "cell_type": "markdown",
      "metadata": {
        "id": "40B84BRCsQu3"
      },
      "source": [
        "А так, вот пример парсинга данных, но тут парсинг идет по дням, что не подходит для поставленной задачи, как и говорил выше проблема заключалась именно в смене показа данных со стандартного(день) на нужный нам(месяц)"
      ]
    },
    {
      "cell_type": "code",
      "metadata": {
        "id": "1WWSC4teF6BD"
      },
      "source": [
        "from bs4 import BeautifulSoup\n",
        "html = BeautifulSoup(wd.page_source)"
      ],
      "execution_count": 40,
      "outputs": []
    },
    {
      "cell_type": "code",
      "metadata": {
        "id": "WITQfhSLgQ_j"
      },
      "source": [
        "import numpy as np\n",
        "import pandas as pd\n",
        "import matplotlib.pyplot as plt\n",
        "import seaborn as sns\n",
        "sns.set(); "
      ],
      "execution_count": 4,
      "outputs": []
    },
    {
      "cell_type": "code",
      "metadata": {
        "id": "MH6PD4rzB8SP"
      },
      "source": [
        "li_list = html.find('ul', attrs={'class':'sl-list'}).find_all('li')"
      ],
      "execution_count": 8,
      "outputs": []
    },
    {
      "cell_type": "code",
      "metadata": {
        "id": "I2pDL5fAhWzX"
      },
      "source": [
        "name = li_list[0].find('span',attrs = {'class':'sl-item__name'}).text\n",
        "fees = int(li_list[0].find('span',attrs = {'class':'-fees'}).text.replace(\" \", \"\").replace(\"\\n\",\"\"))\n",
        "spectators = int(li_list[0].find('span',attrs = {'class':'-spectators'}).text.replace(\" \", \"\").replace(\"\\n\",\"\"))\n",
        "sessions = int(li_list[0].find('span',attrs = {'class':'-sessions'}).text.replace(\" \", \"\").replace(\"\\n\",\"\"))\n",
        "hours_currency = int(li_list[0].find('span',attrs = {'class':'-hours-currency'}).text.replace(\" \", \"\").replace(\"\\n\",\"\"))\n",
        "hours_user = int(li_list[0].find('span',attrs = {'class':'-hours-user'}).text.replace(\" \", \"\").replace(\"\\n\",\"\"))"
      ],
      "execution_count": 14,
      "outputs": []
    },
    {
      "cell_type": "markdown",
      "metadata": {
        "id": "uJMmSbefsziW"
      },
      "source": [
        "Вот основываясь на этих данных уже был бы создан DataFrame, который дальше бы помог в задаче EDA"
      ]
    },
    {
      "cell_type": "markdown",
      "metadata": {
        "id": "CU8qahWztIZ8"
      },
      "source": [
        "***Ещё обнаружилось, что фонд кино, а именно эта страница, обновляет свои данные примерно с 00:00, до 3:00, пропадают все цифры***"
      ]
    }
  ]
}